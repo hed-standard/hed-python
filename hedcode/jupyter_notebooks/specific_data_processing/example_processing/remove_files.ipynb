{
 "cells": [
  {
   "cell_type": "markdown",
   "metadata": {
    "collapsed": true,
    "pycharm": {
     "name": "#%% md\n"
    }
   },
   "source": [
    "## Remove files of a certain type"
   ]
  },
  {
   "cell_type": "code",
   "execution_count": 2,
   "outputs": [],
   "source": [
    "import os\n",
    "from hed.tools.io_utils import get_file_list\n",
    "\n",
    "bids_root_path = 'G:\\Sternberg\\SternbergWorking'\n",
    "file_list = get_file_list(bids_root_path, extensions=[\".tsv\"], name_suffix=\"_temp2_temp4\")\n",
    "for file in file_list:\n",
    "    os.remove(file)"
   ],
   "metadata": {
    "collapsed": false,
    "pycharm": {
     "name": "#%% Find the files\n"
    }
   }
  }
 ],
 "metadata": {
  "kernelspec": {
   "display_name": "Python 3",
   "language": "python",
   "name": "python3"
  },
  "language_info": {
   "codemirror_mode": {
    "name": "ipython",
    "version": 2
   },
   "file_extension": ".py",
   "mimetype": "text/x-python",
   "name": "python",
   "nbconvert_exporter": "python",
   "pygments_lexer": "ipython2",
   "version": "2.7.6"
  }
 },
 "nbformat": 4,
 "nbformat_minor": 0
}