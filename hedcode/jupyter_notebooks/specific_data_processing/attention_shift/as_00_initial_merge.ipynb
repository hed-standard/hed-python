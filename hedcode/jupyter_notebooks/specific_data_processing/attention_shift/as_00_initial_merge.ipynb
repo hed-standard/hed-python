{
 "cells": [
  {
   "cell_type": "markdown",
   "source": [
    "## Merging of event files for two runs in the same session.\n",
    "\n",
    "\n"
   ],
   "metadata": {
    "collapsed": false,
    "pycharm": {
     "name": "#%% md\n"
    }
   }
  },
  {
   "cell_type": "code",
   "execution_count": 5,
   "outputs": [],
   "source": [
    "import pandas as pd\n",
    "from hed.tools.io_utils import get_file_list, make_file_dict\n",
    "from hed.tools.data_utils import get_new_dataframe\n",
    "from hed.tools.hed_logger import HedLogger\n",
    "\n",
    "# Set up the logger\n",
    "status = HedLogger()\n",
    "\n",
    "# Make the dictionaries of the events.tsv files and the EEG.set events files\n",
    "bids_root_path = 'G:\\AttentionShift\\AttentionShiftWorking1'\n",
    "bids_files = get_file_list(bids_root_path, extensions=[\".tsv\"], name_suffix=\"_events\")\n",
    "bids_dict = make_file_dict(bids_files, indices=(0, 2))\n",
    "fatal_error = False\n",
    "\n",
    "## Subject 004\n",
    "# key='sub-004_run-01'\n",
    "# srate = 250.0293378038558\n",
    "# last_pt = 34560\n",
    "#last_event = 288\n",
    "\n",
    "\n",
    "key='sub-036_run-01'\n",
    "srate = 250.0293378038558\n",
    "last_pt = 34304\n",
    "last_event = 289\n",
    "\n",
    "the_file = bids_dict[key]\n",
    "df_bids = get_new_dataframe(the_file)\n",
    "#\n",
    "#\n",
    "# as_01_initial_combination.ipynb\n",
    "# # Check to make sure that they have the same keys\n",
    "# status.add(\"file-level-checks\", f\"BIDS events files: {len(bids_dict)} EEG files: {len(eeg_dict)}\", also_print=True)\n",
    "# key_check = set(bids_dict.keys()).symmetric_difference(set(eeg_dict.keys()))\n",
    "# if key_check:\n",
    "#     status.add(\"missing files\", f\"ERROR [{str(key_check)}] events are not in both BIDS and EEG.set files\",\n",
    "#                also_print=True)\n",
    "#     fatal_error = True\n",
    "#\n",
    "# # Check columns for BIDS events files\n",
    "# bids_cols = ['onset', 'duration', 'sample', 'trial_type', 'response_time', 'stim_file', 'value', 'HED']\n",
    "# bids_skip_cols = ['trial_type', 'value', 'response_time', 'stim_file', 'HED']\n",
    "# bids_col_set = set(bids_cols)\n",
    "# eeg_cols = ['sample_offset', 'event_code', 'cond_code', 'type', 'latency', 'urevent', 'usertags']\n",
    "# eeg_skip_cols = ['urevent', 'usertags', 'type']\n",
    "# eeg_col_set = set(eeg_cols)\n",
    "# for key, file in bids_dict.items():\n",
    "#     df_bids = get_new_dataframe(file)\n",
    "#     bids_cols_missing = bids_col_set.difference(set(df_bids.columns))\n",
    "#     if bids_cols_missing:\n",
    "#         status.add(key, f\"ERROR {key}: {str(list(bids_cols_missing))} bids event columns are missing\", also_print=True)\n",
    "#         fatal_error = True\n",
    "#\n",
    "#     df_eeg = get_new_dataframe(eeg_dict[key])\n",
    "#     eeg_cols_missing = eeg_col_set.difference(set(df_eeg.columns))\n",
    "#     if eeg_cols_missing:\n",
    "#         status.add(key, f\"ERROR {key}: {str(list(eeg_cols_missing))} EEG event columns are missing\", also_print=True)\n",
    "#         fatal_error = True\n",
    "#\n",
    "#     # Now check the number of rows in the two versions agree\n",
    "#     if len(df_bids.index) != len(df_eeg.index):\n",
    "#         status.add(key, f\"ERROR {key}: BIDS file has {len(df_bids.index)} events and EEG file \"\n",
    "#                    \"has {len(df_eeg.index)} events,\", also_print=True)\n",
    "#         fatal_error = True\n",
    "#\n",
    "#     if fatal_error:\n",
    "#         continue\n",
    "#\n",
    "#     # Drop the extra columns and reorder the BIDS dataset\n",
    "#     bids_extra_cols = set(df_bids.columns).difference(bids_col_set)\n",
    "#     if bids_extra_cols:\n",
    "#         df_bids.drop(columns=bids_extra_cols, inplace=True)\n",
    "#         status.add(key, f\"Dropped BIDS columns {str(bids_extra_cols)}\")\n",
    "#     df_bids = df_bids[bids_cols]\n",
    "#     status.add(key, f\"Reordered BIDS columns as {str(bids_cols)}\")\n",
    "#     df_bids.drop(columns=bids_skip_cols, inplace=True)\n",
    "#     status.add(key, f\"Dropped BIDS skip columns {str(bids_skip_cols)}\")\n",
    "#\n",
    "#     # Drop the extra columns and reorder the EEG dataset\n",
    "#     eeg_extra_cols = set(df_eeg.columns).difference(eeg_col_set)\n",
    "#     if eeg_extra_cols:\n",
    "#         df_eeg.drop(columns=eeg_extra_cols, inplace=True)\n",
    "#         status.add(key, f\"Dropped EEG columns {str(eeg_extra_cols)}\")\n",
    "#     df_eeg = df_eeg[eeg_cols]\n",
    "#     status.add(key, f\"Reordered EEG columns as {str(eeg_cols)}\")\n",
    "#     df_eeg.drop(columns=eeg_skip_cols, inplace=True)\n",
    "#     status.add(key, f\"Dropped EEG skip columns {str(eeg_skip_cols)}\")\n",
    "#\n",
    "#     # Combine the two versions of the events file.\n",
    "#     df_out = pd.concat([df_bids, df_eeg], axis=1)\n",
    "#     status.add(key, f\"Concatenated the BIDS and EEG event files for processing\")\n",
    "#\n",
    "#     # Make sure that the sample and sample_offset columns are equal\n",
    "#     offset_diff = sum(df_out['sample'].map(str) != df_out['sample_offset'].map(str))\n",
    "#     latency_diff = sum(df_out['sample'].map(str) != df_out['latency'].map(str))\n",
    "#     if offset_diff + latency_diff:\n",
    "#         status.add(key, f\"ERROR {key}: sample col has {offset_diff} sample_offset and \"\n",
    "#                         f\"{latency_diff} differences,\", also_print=True)\n",
    "#         fatal_error = True\n",
    "#         continue\n",
    "#     df_out.drop(columns=['sample_offset', 'latency'], inplace=True)\n",
    "#     status.add(key, f\"Dropped the sample_offset and latency columns\")\n",
    "#     filename = file[:-4] + \"_temp1.tsv\"\n",
    "#     df_out.to_csv(filename, sep='\\t', index=False)\n",
    "#     status.add(key, f\"Saved as _events_temp1.tsv\")\n",
    "#\n",
    "# if fatal_error:\n",
    "#     print(\"WARNING: This script had fatal data errors which should be corrected before proceeding\")\n",
    "#     raise KeyboardInterrupt\n",
    "#\n",
    "#"
   ],
   "metadata": {
    "collapsed": false,
    "pycharm": {
     "name": "#%% Setup the structure and column names\n"
    }
   }
  },
  {
   "cell_type": "code",
   "execution_count": 6,
   "outputs": [],
   "source": [
    "# key = 'sub-007_run-01'\n",
    "# filename = bids_dict[key]\n",
    "# filename = filename[:-4] + \"_temp1.tsv\"\n",
    "# df = get_new_dataframe(filename)\n",
    "# df.drop(index=[0, 1, 2, 3], inplace=True)\n",
    "# status.add(key, f\"Dropped rows 0, 1, 2, 3, to get rid of bad 255 events at beginning of file.\")\n",
    "# df.to_csv(filename, sep='\\t', index=False)\n",
    "# status.add(key, f\"Saved as _events_temp1.tsv\")\n",
    "#"
   ],
   "metadata": {
    "collapsed": false,
    "pycharm": {
     "name": "#%% sub-007_run-01 has 4 bad initial events: 255, 202, 255, 255\n"
    }
   }
  },
  {
   "cell_type": "code",
   "execution_count": 7,
   "outputs": [],
   "source": [
    "# import os\n",
    "# from hed.tools.data_utils import get_new_dataframe\n",
    "# bids_file = \\\n",
    "#     'G:/AttentionShift/AttentionShiftWorking/sub-031/eeg/sub-031_task-AuditoryVisualShift_run-01_events_temp1.tsv'\n",
    "# correction_file = '../../../data/attention_shift_data/sub-031_run-01_code_corrections.tsv'\n",
    "# print(os.path.abspath(correction_file))\n",
    "#\n",
    "# df = get_new_dataframe(bids_file)\n",
    "# corrections = get_new_dataframe(correction_file)\n",
    "# df['event_code'] = list(corrections['event_code'])\n",
    "# df['cond_code'] = list(corrections['cond_code'])\n",
    "# df.to_csv(bids_file, sep='\\t', index=False)\n",
    "# status.add('sub-031_run-01', f\"Replaced the event_code and cond_code columns with values from correction file\")\n",
    "#"
   ],
   "metadata": {
    "collapsed": false,
    "pycharm": {
     "name": "#%% Fix sub-031 run-1 `trial_type` and `cond_code` and resave to temp1.\n"
    }
   }
  },
  {
   "cell_type": "code",
   "execution_count": 8,
   "outputs": [],
   "source": [
    "# status.print_log()"
   ],
   "metadata": {
    "collapsed": false,
    "pycharm": {
     "name": "#%% Output the log\n"
    }
   }
  }
 ],
 "metadata": {
  "kernelspec": {
   "display_name": "Python 3",
   "language": "python",
   "name": "python3"
  },
  "language_info": {
   "codemirror_mode": {
    "name": "ipython",
    "version": 2
   },
   "file_extension": ".py",
   "mimetype": "text/x-python",
   "name": "python",
   "nbconvert_exporter": "python",
   "pygments_lexer": "ipython2",
   "version": "2.7.6"
  }
 },
 "nbformat": 4,
 "nbformat_minor": 0
}