{
 "cells": [
  {
   "cell_type": "code",
   "execution_count": 1,
   "outputs": [],
   "source": [
    "from hed.tools.io_utils import get_file_list, make_file_dict\n",
    "root_path = 'G:/AttentionShift/AttentionShiftExperiments'\n",
    "files_bids = get_file_list(root_path, extensions=[\".tsv\"], name_suffix=\"_events\")\n",
    "files_eeg = get_file_list(root_path, extensions=[\".tsv\"], name_suffix=\"_events_temp\")\n",
    "bids_delete_cols = ['HED', 'response_time', 'stim_file']\n",
    "dict_bids = make_file_dict(files_bids)\n",
    "dict_eeg = make_file_dict(files_eeg, indices=(0, -3))"
   ],
   "metadata": {
    "collapsed": false,
    "pycharm": {
     "name": "#%% Setup the structure and column names\n"
    }
   }
  },
  {
   "cell_type": "code",
   "execution_count": 2,
   "outputs": [
    {
     "name": "stdout",
     "output_type": "stream",
     "text": [
      "Correcting cond_code and trial_type for sub-031_run-01\n"
     ]
    }
   ],
   "source": [
    "from hed.tools.data_utils import get_new_dataframe\n",
    "print(\"Correcting cond_code and trial_type for sub-031_run-01\")\n",
    "correct_file = 'G:/AttentionShift/sub-031_run-01_kay_dung_compare.tsv'\n",
    "df_correct =  get_new_dataframe(correct_file)\n",
    "\n",
    "bids_corrected = 'G:/AttentionShift/AttentionShiftExperiments/sub-031/eeg/sub-031_task-AuditoryVisualShift_run-01_events.tsv'\n",
    "df_bids_corrected = get_new_dataframe(bids_corrected)\n",
    "df_bids_corrected['trial_type'] = df_correct['trial_type']\n",
    "df_bids_corrected.to_csv(bids_corrected, sep='\\t', index=False)\n",
    "\n",
    "eeg_corrected = 'G:/AttentionShift/AttentionShiftExperiments/sub-031/eeg/sub-031_task-AuditoryVisualShift_run-01_events_temp.tsv'\n",
    "df_eeg_corrected = get_new_dataframe(eeg_corrected)\n",
    "df_eeg_corrected['cond_code'] = df_correct['cond_code']\n",
    "df_eeg_corrected.to_csv(eeg_corrected, sep='\\t', index=False)"
   ],
   "metadata": {
    "collapsed": false,
    "pycharm": {
     "name": "#%% Fix sub-031 run-1 `trial_type` and `cond_code`\n"
    }
   }
  },
  {
   "cell_type": "code",
   "execution_count": 3,
   "outputs": [
    {
     "name": "stdout",
     "output_type": "stream",
     "text": [
      "\n",
      "BIDS form of the events: 54\n"
     ]
    }
   ],
   "source": [
    "# from hed.tools import check_match, delete_columns, delete_rows_by_column, get_new_dataframe\n",
    "#\n",
    "# print(f\"\\nBIDS form of the events: {len(files_bids)}\")\n",
    "# for key, file in dict_bids.items():\n",
    "#     df_bids = get_new_dataframe(file)\n",
    "#     df_eeg = get_new_dataframe(dict_eeg[key])\n",
    "#\n",
    "#     delete_columns(df_bids, bids_delete_cols)\n",
    "#     df_bids['event_code'] = 'n/a'\n",
    "#     df_bids['cond_code'] = 'n/a'\n",
    "#     df_bids['event_code'] = df_eeg['event_code'].astype(str)\n",
    "#     df_bids['cond_code'] = df_eeg['cond_code'].astype(str)\n",
    "#     errors = check_match(df_bids['cond_code'], df_bids['trial_type'])\n",
    "#     if errors:\n",
    "#         print(f\"{key}: cond_code ~= trial_type for {errors}\")\n",
    "#     delete_rows_by_column(df_bids, '199', column_list=['event_code'])\n",
    "#     filename = file[:-4] + \"_temp2.tsv\"\n",
    "#     df_bids.to_csv(filename, sep='\\t', index=False)\n"
   ],
   "metadata": {
    "collapsed": false,
    "pycharm": {
     "name": "#%% Preliminary restructuring\n"
    }
   }
  },
  {
   "cell_type": "code",
   "execution_count": 4,
   "outputs": [
    {
     "name": "stdout",
     "output_type": "stream",
     "text": [
      "Outputing the template:\n",
      "Counts for key [['cond_code', 'event_code']]:\n",
      "[1, 1]\t2459\n",
      "[1, 2]\t2455\n",
      "[1, 3]\t4620\n",
      "[1, 4]\t4620\n",
      "[1, 5]\t18474\n",
      "[1, 6]\t18475\n",
      "[1, 7]\t192\n",
      "[1, 8]\t192\n",
      "[1, 9]\t96\n",
      "[1, 10]\t96\n",
      "[1, 11]\t766\n",
      "[1, 12]\t766\n",
      "[1, 13]\t384\n",
      "[1, 14]\t382\n",
      "[1, 201]\t5239\n",
      "[1, 202]\t194\n",
      "[2, 1]\t2290\n",
      "[2, 2]\t2293\n",
      "[2, 3]\t4580\n",
      "[2, 4]\t4585\n",
      "[2, 5]\t18314\n",
      "[2, 6]\t18307\n",
      "[2, 8]\t2\n",
      "[2, 12]\t3\n",
      "[2, 201]\t4644\n",
      "[2, 202]\t189\n",
      "[3, 1]\t6954\n",
      "[3, 2]\t6953\n",
      "[3, 3]\t96\n",
      "[3, 4]\t96\n",
      "[3, 5]\t383\n",
      "[3, 6]\t385\n",
      "[3, 7]\t9214\n",
      "[3, 8]\t9214\n",
      "[3, 9]\t4600\n",
      "[3, 10]\t4606\n",
      "[3, 11]\t36782\n",
      "[3, 12]\t36755\n",
      "[3, 13]\t18394\n",
      "[3, 14]\t18397\n",
      "[3, 201]\t19145\n",
      "[3, 202]\t545\n"
     ]
    }
   ],
   "source": [
    "from hed.tools.io_utils import get_file_list\n",
    "from hed.tools.key_template import KeyTemplate\n",
    "print(\"Outputing the template:\")\n",
    "updated_files = get_file_list(root_path, extensions=[\".tsv\"], name_suffix=\"_events_temp2\")\n",
    "key_columns = ['cond_code', 'event_code']\n",
    "template = KeyTemplate(key_columns)\n",
    "for file in updated_files:\n",
    "    template.update(file)\n",
    "template.resort()\n",
    "template.print()"
   ],
   "metadata": {
    "collapsed": false,
    "pycharm": {
     "name": "#%% Use KeyTemplate to get the counts for each unique combination of key columns.\n"
    }
   }
  },
  {
   "cell_type": "code",
   "execution_count": 6,
   "outputs": [
    {
     "name": "stdout",
     "output_type": "stream",
     "text": [
      "Checking the validity of the event codes:\n",
      "sub-005_run-01 has 5 shift event codes in a focus condition\n",
      "sub-008_run-01 has 2874 shift event codes in a focus condition\n",
      "sub-015_run-01 has 239 focus event codes in a shift condition\n",
      "sub-036_run-02 has 721 focus event codes in a shift condition\n"
     ]
    }
   ],
   "source": [
    "import os\n",
    "from hed.tools.io_utils import get_file_list\n",
    "from hed.tools.data_utils import make_key\n",
    "\n",
    "print(\"Checking the validity of the event codes:\")\n",
    "updated_files = get_file_list(root_path, extensions=[\".tsv\"], name_suffix=\"_events_temp2\")\n",
    "for file in updated_files:\n",
    "    key = make_key(os.path.basename(file), [0, -3])\n",
    "    df_bids = get_new_dataframe(file)\n",
    "    focus_mask = df_bids['cond_code'].map(str).isin(['1', '2'])\n",
    "    shift_mask = df_bids['cond_code'].map(str).isin(['3'])\n",
    "    focus_event_mask = df_bids['event_code'].map(str).isin(['3', '4', '5', '6'])\n",
    "    shift_event_mask = df_bids['event_code'].map(str).isin(['7', '8', '9', '10', '11', '12', '13', '14'])\n",
    "    bad_focus = sum(focus_mask & shift_event_mask)\n",
    "    if bad_focus:\n",
    "        print(f\"{key} has {bad_focus} shift event codes in a focus condition\")\n",
    "    bad_shift = sum(shift_mask & focus_event_mask)\n",
    "    if bad_shift:\n",
    "        print(f\"{key} has {bad_shift} focus event codes in a shift condition\")"
   ],
   "metadata": {
    "collapsed": false,
    "pycharm": {
     "name": "#%% Find which studies have bad codes\n"
    }
   }
  }
 ],
 "metadata": {
  "kernelspec": {
   "display_name": "Python 3",
   "language": "python",
   "name": "python3"
  },
  "language_info": {
   "codemirror_mode": {
    "name": "ipython",
    "version": 2
   },
   "file_extension": ".py",
   "mimetype": "text/x-python",
   "name": "python",
   "nbconvert_exporter": "python",
   "pygments_lexer": "ipython2",
   "version": "2.7.6"
  },
  "pycharm": {
   "stem_cell": {
    "cell_type": "raw",
    "source": [
     "## Preliminary restructuring of Attention Shift\n",
     "This script assumes that `as_preliminary_summary.ipynb` has been run.\n",
     "This script assumes that the data is in BIDS format and that each BIDS events\n",
     "file of the form `_events.tsv` has a corresponding events file with\n",
     "suffix `_events_temp.tsv` that was previously dumped from the `EEG.set` files.\n",
     "The new files will be saved in `_events_temp2.tsv` (BIDS)\n",
     "\n",
     "In order to compare the events coming from the BIDS events files and those\n",
     "from the EEG.set files, the script creates dictionaries of `key` to full path\n",
     "for each type of file.  The `key` is of the form `sub-xxx_run-y` which\n",
     "uniquely specify each event file in the dataset. If a dataset contains\n",
     "multiple sessions for each subject, the `key` should include additional\n",
     "parts of the file name to uniquely specify each subject.\n",
     "\n",
     "### Individual file fixes\n",
     "\n",
     "`sub-031_run-01` was faulty. The `trial_type` values in the BIDS version were 0 instead of 1, 2, or 3.\n",
     "The correct values are in `sub-031_run-01_kay_dung_compare.tsv`.\n",
     "Replace `trial_type` with corrected values in`sub-031_task-AuditoryVisualShift_run-01_events.tsv`.\n",
     "\n",
     "The `cond_code` values in the EEG version were 0 instead of 1, 2, or 3.\n",
     "The correct values are in `sub-031_run-01_kay_dung_compare.tsv`.\n",
     "Replace `cond_code` in `sub-031_task-AuditoryVisualShift_run-01_events_temp.tsv` with corrected values\n",
     "\n",
     "\n",
     "### BIDS events restructuring\n",
     "\n",
     "Create `events_temp2.tsv` files from the `events.tsv` files restructured as follows:\n",
     " 1. Remove `HED`, `response_time` and `stim_file` columns.\n",
     " 2. Check that EEG `cond_code` is same as BIDS `trial_type`.\n",
     " 3. Add `cond_code` column from the corresponding EEG events file.\n",
     " 4. Add `event_code` column from the correspond EEG events file.\n",
     " 5. Delete from BIDS rows use `event_code` = 199 (pulse code).\n",
     "\n",
     "### Checking for forbidden codes\n",
     "       Codes 1 and 2 can appear anywhere\n",
     "       Codes 3 through 6 should appear only in the focus condition.\n",
     "       Codes 7 through 14 should appear only in the shift condition.\n",
     "       Codes 199, 201, 202, and 255 are not related to condition.\n"
    ],
    "metadata": {
     "collapsed": false
    }
   }
  }
 },
 "nbformat": 4,
 "nbformat_minor": 0
}