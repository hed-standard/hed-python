{
 "cells": [
  {
   "cell_type": "markdown",
   "metadata": {
    "collapsed": true,
    "pycharm": {
     "name": "#%% md\n"
    }
   },
   "source": [
    "## Stage 1 checks\n",
    "\n",
    "This script is run after preliminary checks and corrections.\n",
    "The working event files are of the form: events_temp2.tsv.\n",
    "The extra columns have been removed. The event files now have\n",
    "columns `event_code` and `cond_code`.\n"
   ]
  },
  {
   "cell_type": "markdown",
   "source": [
    "### Get a list of event files"
   ],
   "metadata": {
    "collapsed": false,
    "pycharm": {
     "name": "#%% md\n"
    }
   }
  },
  {
   "cell_type": "code",
   "execution_count": 1,
   "outputs": [
    {
     "ename": "ModuleNotFoundError",
     "evalue": "No module named 'werkzeug'",
     "output_type": "error",
     "traceback": [
      "\u001B[1;31m---------------------------------------------------------------------------\u001B[0m",
      "\u001B[1;31mModuleNotFoundError\u001B[0m                       Traceback (most recent call last)",
      "\u001B[1;32m~\\AppData\\Local\\Temp/ipykernel_33524/3531599211.py\u001B[0m in \u001B[0;36m<module>\u001B[1;34m\u001B[0m\n\u001B[1;32m----> 1\u001B[1;33m \u001B[1;32mfrom\u001B[0m \u001B[0mhed\u001B[0m\u001B[1;33m.\u001B[0m\u001B[0mtools\u001B[0m \u001B[1;32mimport\u001B[0m \u001B[0mget_file_list\u001B[0m\u001B[1;33m\u001B[0m\u001B[1;33m\u001B[0m\u001B[0m\n\u001B[0m\u001B[0;32m      2\u001B[0m \u001B[0mbids_root_path\u001B[0m \u001B[1;33m=\u001B[0m \u001B[1;34m'G:/AttentionShift/AttentionShiftExperiments'\u001B[0m\u001B[1;33m\u001B[0m\u001B[1;33m\u001B[0m\u001B[0m\n\u001B[0;32m      3\u001B[0m \u001B[0mevent_files_bids\u001B[0m \u001B[1;33m=\u001B[0m \u001B[0mget_file_list\u001B[0m\u001B[1;33m(\u001B[0m\u001B[0mbids_root_path\u001B[0m\u001B[1;33m,\u001B[0m \u001B[0mtypes\u001B[0m\u001B[1;33m=\u001B[0m\u001B[1;33m[\u001B[0m\u001B[1;34m\".tsv\"\u001B[0m\u001B[1;33m]\u001B[0m\u001B[1;33m,\u001B[0m \u001B[0msuffix\u001B[0m\u001B[1;33m=\u001B[0m\u001B[1;34m\"_events_temp2\"\u001B[0m\u001B[1;33m)\u001B[0m\u001B[1;33m\u001B[0m\u001B[1;33m\u001B[0m\u001B[0m\n\u001B[0;32m      4\u001B[0m \u001B[0mbids_skip\u001B[0m \u001B[1;33m=\u001B[0m \u001B[1;33m[\u001B[0m\u001B[1;34m'onset'\u001B[0m\u001B[1;33m,\u001B[0m \u001B[1;34m'duration'\u001B[0m\u001B[1;33m,\u001B[0m \u001B[1;34m'sample'\u001B[0m\u001B[1;33m]\u001B[0m\u001B[1;33m\u001B[0m\u001B[1;33m\u001B[0m\u001B[0m\n",
      "\u001B[1;32mE:\\HEDPython\\hed-python\\hedexamples\\venv\\lib\\site-packages\\hed\\tools\\__init__.py\u001B[0m in \u001B[0;36m<module>\u001B[1;34m\u001B[0m\n\u001B[1;32m----> 1\u001B[1;33m \u001B[1;32mfrom\u001B[0m \u001B[0mhed\u001B[0m\u001B[1;33m.\u001B[0m\u001B[0mtools\u001B[0m\u001B[1;33m.\u001B[0m\u001B[0mcol_dict\u001B[0m \u001B[1;32mimport\u001B[0m \u001B[0mColumnDict\u001B[0m\u001B[1;33m\u001B[0m\u001B[1;33m\u001B[0m\u001B[0m\n\u001B[0m\u001B[0;32m      2\u001B[0m \u001B[1;32mfrom\u001B[0m \u001B[0mhed\u001B[0m\u001B[1;33m.\u001B[0m\u001B[0mtools\u001B[0m\u001B[1;33m.\u001B[0m\u001B[0mkey_map\u001B[0m \u001B[1;32mimport\u001B[0m \u001B[0mKeyMap\u001B[0m\u001B[1;33m\u001B[0m\u001B[1;33m\u001B[0m\u001B[0m\n\u001B[0;32m      3\u001B[0m \u001B[1;32mfrom\u001B[0m \u001B[0mhed\u001B[0m\u001B[1;33m.\u001B[0m\u001B[0mtools\u001B[0m\u001B[1;33m.\u001B[0m\u001B[0mkey_template\u001B[0m \u001B[1;32mimport\u001B[0m \u001B[0mKeyTemplate\u001B[0m\u001B[1;33m\u001B[0m\u001B[1;33m\u001B[0m\u001B[0m\n\u001B[0;32m      4\u001B[0m \u001B[1;32mfrom\u001B[0m \u001B[0mhed\u001B[0m\u001B[1;33m.\u001B[0m\u001B[0mtools\u001B[0m\u001B[1;33m.\u001B[0m\u001B[0msidecar_map\u001B[0m \u001B[1;32mimport\u001B[0m \u001B[0mSidecarMap\u001B[0m\u001B[1;33m\u001B[0m\u001B[1;33m\u001B[0m\u001B[0m\n\u001B[0;32m      5\u001B[0m \u001B[1;32mfrom\u001B[0m \u001B[0mhed\u001B[0m\u001B[1;33m.\u001B[0m\u001B[0mtools\u001B[0m\u001B[1;33m.\u001B[0m\u001B[0mmap_utils\u001B[0m \u001B[1;32mimport\u001B[0m \u001B[0mget_new_dataframe\u001B[0m\u001B[1;33m,\u001B[0m \u001B[0mgenerate_filename\u001B[0m\u001B[1;33m,\u001B[0m \u001B[0mget_file_list\u001B[0m\u001B[1;33m,\u001B[0m \u001B[0mget_columns_info\u001B[0m\u001B[1;33m\u001B[0m\u001B[1;33m\u001B[0m\u001B[0m\n",
      "\u001B[1;32mE:\\HEDPython\\hed-python\\hedexamples\\venv\\lib\\site-packages\\hed\\tools\\col_dict.py\u001B[0m in \u001B[0;36m<module>\u001B[1;34m\u001B[0m\n\u001B[0;32m      1\u001B[0m \u001B[1;32mimport\u001B[0m \u001B[0mpandas\u001B[0m \u001B[1;32mas\u001B[0m \u001B[0mpd\u001B[0m\u001B[1;33m\u001B[0m\u001B[1;33m\u001B[0m\u001B[0m\n\u001B[0;32m      2\u001B[0m \u001B[1;32mfrom\u001B[0m \u001B[0mhed\u001B[0m\u001B[1;33m.\u001B[0m\u001B[0merrors\u001B[0m\u001B[1;33m.\u001B[0m\u001B[0mexceptions\u001B[0m \u001B[1;32mimport\u001B[0m \u001B[0mHedFileError\u001B[0m\u001B[1;33m\u001B[0m\u001B[1;33m\u001B[0m\u001B[0m\n\u001B[1;32m----> 3\u001B[1;33m \u001B[1;32mfrom\u001B[0m \u001B[0mhed\u001B[0m\u001B[1;33m.\u001B[0m\u001B[0mtools\u001B[0m\u001B[1;33m.\u001B[0m\u001B[0mmap_utils\u001B[0m \u001B[1;32mimport\u001B[0m \u001B[0mget_new_dataframe\u001B[0m\u001B[1;33m\u001B[0m\u001B[1;33m\u001B[0m\u001B[0m\n\u001B[0m\u001B[0;32m      4\u001B[0m \u001B[1;33m\u001B[0m\u001B[0m\n\u001B[0;32m      5\u001B[0m \u001B[1;33m\u001B[0m\u001B[0m\n",
      "\u001B[1;32mE:\\HEDPython\\hed-python\\hedexamples\\venv\\lib\\site-packages\\hed\\tools\\map_utils.py\u001B[0m in \u001B[0;36m<module>\u001B[1;34m\u001B[0m\n\u001B[0;32m      1\u001B[0m \u001B[1;32mimport\u001B[0m \u001B[0mos\u001B[0m\u001B[1;33m\u001B[0m\u001B[1;33m\u001B[0m\u001B[0m\n\u001B[0;32m      2\u001B[0m \u001B[1;32mimport\u001B[0m \u001B[0mpandas\u001B[0m \u001B[1;32mas\u001B[0m \u001B[0mpd\u001B[0m\u001B[1;33m\u001B[0m\u001B[1;33m\u001B[0m\u001B[0m\n\u001B[1;32m----> 3\u001B[1;33m \u001B[1;32mfrom\u001B[0m \u001B[0mwerkzeug\u001B[0m\u001B[1;33m.\u001B[0m\u001B[0mutils\u001B[0m \u001B[1;32mimport\u001B[0m \u001B[0msecure_filename\u001B[0m\u001B[1;33m\u001B[0m\u001B[1;33m\u001B[0m\u001B[0m\n\u001B[0m\u001B[0;32m      4\u001B[0m \u001B[1;32mfrom\u001B[0m \u001B[0mhed\u001B[0m\u001B[1;33m.\u001B[0m\u001B[0merrors\u001B[0m\u001B[1;33m.\u001B[0m\u001B[0mexceptions\u001B[0m \u001B[1;32mimport\u001B[0m \u001B[0mHedFileError\u001B[0m\u001B[1;33m\u001B[0m\u001B[1;33m\u001B[0m\u001B[0m\n\u001B[0;32m      5\u001B[0m \u001B[1;33m\u001B[0m\u001B[0m\n",
      "\u001B[1;31mModuleNotFoundError\u001B[0m: No module named 'werkzeug'"
     ]
    }
   ],
   "source": [
    "from hed.tools.io_utils import get_file_list\n",
    "bids_root_path = 'G:/AttentionShift/AttentionShiftExperiments'\n",
    "event_files_bids = get_file_list(bids_root_path, extensions=[\".tsv\"], name_suffix=\"_events_temp2\")\n",
    "bids_skip = ['onset', 'duration', 'sample']"
   ],
   "metadata": {
    "collapsed": false,
    "pycharm": {
     "name": "#%% Get a list of event files\n"
    }
   }
  },
  {
   "cell_type": "code",
   "execution_count": 13,
   "outputs": [
    {
     "name": "stdout",
     "output_type": "stream",
     "text": [
      "BIDS events summary:\n",
      "Summary for column dictionary G:/AttentionShift/AttentionShiftExperiments BIDS:\n",
      "  Categorical columns (3):\n",
      "    response_time (1 distinct values):\n",
      "      n/a: 287442\n",
      "    trial_type (4 distinct values):\n",
      "      0: 6373\n",
      "      1: 58184\n",
      "      2: 54045\n",
      "      3: 168840\n",
      "    value (52 distinct values):\n",
      "      1: 240\n",
      "      2: 240\n",
      "      3: 192\n",
      "      4: 192\n",
      "      5: 772\n",
      "      6: 769\n",
      "      7: 192\n",
      "      8: 192\n",
      "      9: 96\n",
      "      10: 96\n",
      "      11: 3179\n",
      "      12: 3173\n",
      "      13: 4909\n",
      "      14: 4907\n",
      "      15: 18089\n",
      "      16: 18090\n",
      "      17: 192\n",
      "      18: 192\n",
      "      19: 96\n",
      "      21: 2242\n",
      "      22: 2245\n",
      "      23: 4484\n",
      "      24: 4489\n",
      "      25: 17927\n",
      "      26: 17923\n",
      "      28: 2\n",
      "      31: 6810\n",
      "      32: 6809\n",
      "      33: 96\n",
      "      34: 96\n",
      "      35: 383\n",
      "      36: 385\n",
      "      37: 9022\n",
      "      38: 9022\n",
      "      39: 4504\n",
      "      110: 96\n",
      "      111: 766\n",
      "      112: 766\n",
      "      113: 384\n",
      "      114: 382\n",
      "      199: 306\n",
      "      201: 764\n",
      "      202: 928\n",
      "      212: 3\n",
      "      310: 4510\n",
      "      311: 36014\n",
      "      312: 35989\n",
      "      313: 18009\n",
      "      314: 18014\n",
      "      1201: 5075\n",
      "      2201: 4545\n",
      "      3201: 18644\n",
      "  Value columns (0):\n"
     ]
    }
   ],
   "source": [
    "import os\n",
    "from hed.tools.col_dict import ColumnDict\n",
    "\n",
    "bids_dicts_all = ColumnDict(skip_cols=bids_skip, name=f\"{bids_root_path} BIDS\" )\n",
    "bids_dicts = {}\n",
    "for file in event_files_bids:\n",
    "    orig_dict = ColumnDict(skip_cols=bids_skip, name=f\"{file} BIDS\")\n",
    "    orig_dict.update(file)\n",
    "    base = os.path.basename(file)\n",
    "    pieces = base.split('_')\n",
    "    key = f\"{pieces[0]}_{pieces[-2]}\"\n",
    "    bids_dicts[key] = orig_dict\n",
    "    bids_dicts_all.update_dict(orig_dict)\n",
    "print('BIDS events summary:')\n",
    "bids_dicts_all.print()"
   ],
   "metadata": {
    "collapsed": false,
    "pycharm": {
     "name": "#%% Create summary dictionaries of the original BIDS events files\n"
    }
   }
  },
  {
   "cell_type": "code",
   "execution_count": 14,
   "outputs": [
    {
     "name": "stdout",
     "output_type": "stream",
     "text": [
      "EEGLAB events summary:\n",
      "Summary for column dictionary G:/AttentionShift/AttentionShiftExperiments EEG:\n",
      "  Categorical columns (3):\n",
      "    cond_code (4 distinct values):\n",
      "      0: 6373\n",
      "      1: 58184\n",
      "      2: 54045\n",
      "      3: 168840\n",
      "    event_code (17 distinct values):\n",
      "      1: 11703\n",
      "      2: 11701\n",
      "      3: 9296\n",
      "      4: 9301\n",
      "      5: 37171\n",
      "      6: 37167\n",
      "      7: 9406\n",
      "      8: 9408\n",
      "      9: 4696\n",
      "      10: 4702\n",
      "      11: 37548\n",
      "      12: 37524\n",
      "      13: 18778\n",
      "      14: 18779\n",
      "      199: 306\n",
      "      201: 29028\n",
      "      202: 928\n",
      "    type (52 distinct values):\n",
      "      1: 240\n",
      "      2: 240\n",
      "      3: 192\n",
      "      4: 192\n",
      "      5: 772\n",
      "      6: 769\n",
      "      7: 192\n",
      "      8: 192\n",
      "      9: 96\n",
      "      10: 96\n",
      "      11: 3179\n",
      "      12: 3173\n",
      "      13: 4909\n",
      "      14: 4907\n",
      "      15: 18089\n",
      "      16: 18090\n",
      "      17: 192\n",
      "      18: 192\n",
      "      19: 96\n",
      "      21: 2242\n",
      "      22: 2245\n",
      "      23: 4484\n",
      "      24: 4489\n",
      "      25: 17927\n",
      "      26: 17923\n",
      "      28: 2\n",
      "      31: 6810\n",
      "      32: 6809\n",
      "      33: 96\n",
      "      34: 96\n",
      "      35: 383\n",
      "      36: 385\n",
      "      37: 9022\n",
      "      38: 9022\n",
      "      39: 4504\n",
      "      110: 96\n",
      "      111: 766\n",
      "      112: 766\n",
      "      113: 384\n",
      "      114: 382\n",
      "      199: 306\n",
      "      201: 764\n",
      "      202: 928\n",
      "      212: 3\n",
      "      310: 4510\n",
      "      311: 36014\n",
      "      312: 35989\n",
      "      313: 18009\n",
      "      314: 18014\n",
      "      1201: 5075\n",
      "      2201: 4545\n",
      "      3201: 18644\n",
      "  Value columns (0):\n"
     ]
    }
   ],
   "source": [
    "# from hed.tools.col_dict import ColumnDict\n",
    "# eeg_dicts_all = ColumnDict(skip_cols=eeg_skip, name=f\"{bids_root_path} EEG\" )\n",
    "# eeg_dicts = {}\n",
    "# for key, file in eeg_file_dict.items():\n",
    "#     eeg_dict = ColumnDict(skip_cols=eeg_skip, name=f\"{file} EEG\")\n",
    "#     eeg_dict.update(file)\n",
    "#     eeg_dicts[key] = eeg_dict\n",
    "#     eeg_dicts_all.update_dict(eeg_dict)\n",
    "# print('EEGLAB events summary:')\n",
    "# eeg_dicts_all.print()"
   ],
   "metadata": {
    "collapsed": false,
    "pycharm": {
     "name": "#%% Create summary dictionaries for EEGLAB EEG.event\n"
    }
   }
  },
  {
   "cell_type": "markdown",
   "source": [
    "### Verification of relationships:\n",
    "\n",
    "These relationships are checked for each event file:\n",
    "1. EEG `cond_code` == BIDS `trial_type`\n",
    "2. EEG `type` == BIDS `value`\n"
   ],
   "metadata": {
    "collapsed": false,
    "pycharm": {
     "name": "#%% md\n"
    }
   }
  },
  {
   "cell_type": "code",
   "execution_count": 15,
   "outputs": [
    {
     "name": "stdout",
     "output_type": "stream",
     "text": [
      "Checking cond_code == trial_type and type == value\n"
     ]
    }
   ],
   "source": [
    "# print(\"Checking cond_code == trial_type and type == value\")\n",
    "# for key, file_eeg in eeg_file_dict.items():\n",
    "#     # Get the column dictionaries for corresponding files\n",
    "#     eeg_dict = eeg_dicts[key]\n",
    "#     bids_dict = bids_dicts[key]\n",
    "#     eeg_type_dict = eeg_dict.categorical_info['type']\n",
    "#     eeg_cond_dict = eeg_dict.categorical_info['cond_code']\n",
    "#     bids_value_dict = bids_dict.categorical_info['value']\n",
    "#     bids_trial_type_dict = bids_dict.categorical_info['trial_type']\n",
    "#\n",
    "#     # Check number of values match for cond_code == trial_type\n",
    "#     for key1, count_eeg in eeg_cond_dict.items():\n",
    "#         count_orig = bids_trial_type_dict[key1]\n",
    "#         if count_eeg != count_orig:\n",
    "#             print(f\"EEG key {key} cond_code {count_eeg} != orig trial_type {count_orig}\")\n",
    "#\n",
    "#     # Check number of values match for cond_code == trial_type\n",
    "#     for key1, count_eeg in eeg_type_dict.items():\n",
    "#         count_orig = bids_value_dict[key1]\n",
    "#         if count_eeg != count_orig:\n",
    "#             print(f\"EEG key {key} type {count_eeg} != orig value {count_orig}\")\n",
    "#"
   ],
   "metadata": {
    "collapsed": false,
    "pycharm": {
     "name": "#%%  Output some basic differences\n"
    }
   }
  },
  {
   "cell_type": "markdown",
   "source": [
    "### Check EEG relationships\n",
    "\n",
    "1. EEG  `cond_code` + `event_code` == EEG `type` unless `cond_code` == 0 or\n",
    "`event_code` == 202\n",
    "2. EEG `event_code` == 255"
   ],
   "metadata": {
    "collapsed": false,
    "pycharm": {
     "name": "#%% md\n"
    }
   }
  },
  {
   "cell_type": "code",
   "execution_count": 16,
   "outputs": [
    {
     "name": "stdout",
     "output_type": "stream",
     "text": [
      "sub-001_run-01: has 0 event_code and 0 202 type disagreements :\n",
      "sub-002_run-01: has 0 event_code and 0 202 type disagreements :\n",
      "sub-003_run-01: has 0 event_code and 0 202 type disagreements :\n",
      "sub-004_run-01: has 0 event_code and 0 202 type disagreements :\n",
      "sub-004_run-02: has 0 event_code and 0 202 type disagreements :\n",
      "sub-005_run-01: has 0 event_code and 0 202 type disagreements :\n",
      "sub-006_run-01: has 0 event_code and 0 202 type disagreements :\n",
      "sub-007_run-01: has 0 event_code and 0 202 type disagreements :\n",
      "sub-008_run-01: has 0 event_code and 0 202 type disagreements :\n",
      "sub-009_run-01: has 0 event_code and 0 202 type disagreements :\n",
      "sub-010_run-01: has 0 event_code and 0 202 type disagreements :\n",
      "sub-011_run-01: has 0 event_code and 0 202 type disagreements :\n",
      "sub-012_run-01: has 0 event_code and 0 202 type disagreements :\n",
      "sub-013_run-01: has 0 event_code and 0 202 type disagreements :\n",
      "sub-014_run-01: has 0 event_code and 0 202 type disagreements :\n",
      "sub-015_run-01: has 0 event_code and 0 202 type disagreements :\n",
      "sub-016_run-01: has 0 event_code and 0 202 type disagreements :\n",
      "sub-017_run-01: has 0 event_code and 0 202 type disagreements :\n",
      "sub-018_run-01: has 0 event_code and 0 202 type disagreements :\n",
      "sub-019_run-01: has 0 event_code and 0 202 type disagreements :\n",
      "sub-020_run-01: has 0 event_code and 0 202 type disagreements :\n",
      "sub-020_run-02: has 0 event_code and 0 202 type disagreements :\n",
      "sub-021_run-01: has 0 event_code and 0 202 type disagreements :\n",
      "sub-021_run-02: has 0 event_code and 0 202 type disagreements :\n",
      "sub-022_run-01: has 0 event_code and 0 202 type disagreements :\n",
      "sub-022_run-02: has 0 event_code and 0 202 type disagreements :\n",
      "sub-023_run-01: has 0 event_code and 0 202 type disagreements :\n",
      "sub-024_run-01: has 0 event_code and 0 202 type disagreements :\n",
      "sub-025_run-01: has 0 event_code and 0 202 type disagreements :\n",
      "sub-026_run-01: has 0 event_code and 0 202 type disagreements :\n",
      "sub-027_run-01: has 0 event_code and 0 202 type disagreements :\n",
      "sub-028_run-01: has 0 event_code and 0 202 type disagreements :\n",
      "sub-028_run-02: has 0 event_code and 0 202 type disagreements :\n",
      "sub-029_run-01: has 0 event_code and 0 202 type disagreements :\n",
      "sub-030_run-01: has 0 event_code and 0 202 type disagreements :\n",
      "sub-031_run-01: has 0 event_code and 0 202 type disagreements :\n",
      "sub-032_run-01: has 0 event_code and 0 202 type disagreements :\n",
      "sub-033_run-01: has 0 event_code and 0 202 type disagreements :\n",
      "sub-034_run-01: has 0 event_code and 0 202 type disagreements :\n",
      "sub-035_run-01: has 0 event_code and 0 202 type disagreements :\n",
      "sub-036_run-01: has 0 event_code and 0 202 type disagreements :\n",
      "sub-036_run-02: has 0 event_code and 0 202 type disagreements :\n",
      "sub-037_run-01: has 0 event_code and 0 202 type disagreements :\n",
      "sub-038_run-01: has 0 event_code and 0 202 type disagreements :\n",
      "sub-039_run-01: has 0 event_code and 0 202 type disagreements :\n",
      "sub-040_run-01: has 0 event_code and 0 202 type disagreements :\n",
      "sub-041_run-01: has 0 event_code and 0 202 type disagreements :\n",
      "sub-042_run-01: has 0 event_code and 0 202 type disagreements :\n",
      "sub-043_run-01: has 0 event_code and 0 202 type disagreements :\n",
      "sub-044_run-01: has 0 event_code and 0 202 type disagreements :\n",
      "sub-045_run-01: has 0 event_code and 0 202 type disagreements :\n",
      "sub-046_run-01: has 0 event_code and 0 202 type disagreements :\n",
      "sub-047_run-01: has 0 event_code and 0 202 type disagreements :\n",
      "sub-048_run-01: has 0 event_code and 0 202 type disagreements :\n",
      "sub-049_run-01: has 0 event_code and 0 202 type disagreements :\n"
     ]
    }
   ],
   "source": [
    "# for key, file in eeg_file_dict.items():\n",
    "#     df_eeg = get_new_dataframe(file)\n",
    "#     df_eeg.drop(['sample_offset', 'latency', 'urevent', 'usertags'], axis=1, inplace=True)\n",
    "#     df_eeg['new_col'] = df_eeg['cond_code'].map(str) + df_eeg['event_code'].map(str)\n",
    "#     code_255_col = df_eeg['event_code'].map(str) == '255'\n",
    "#     trial_col = df_eeg['cond_code'].map(str) != '0'\n",
    "#     pause_col = df_eeg['event_code'].map(str) != '202'\n",
    "#     type_col = df_eeg['type'].map(str) != '202'\n",
    "#     comp_col = df_eeg['new_col'].map(str) != df_eeg[\"type\"].map(str)\n",
    "#     x = comp_col & trial_col & pause_col\n",
    "#     y = (type_col & ~pause_col) | (~type_col & pause_col)\n",
    "#     print(f\"{key}: has {sum(x)} event_code and {sum(y)} 202 type disagreements :\")\n",
    "#     for index, value in x.iteritems():\n",
    "#         if value:\n",
    "#             row = df_eeg.loc[index]\n",
    "#             print(f\"Key {key} index {index}: event_code:{row['event_code']} type:{row['type']} cond_code:{row['cond_code']}\")\n",
    "#\n",
    "#     for index, value in y.iteritems():\n",
    "#         if value:\n",
    "#             row = df_eeg.loc[index]\n",
    "#             print(f\"Key {key} index {index}: event_code:{row['event_code']} type:{row['type']}\")\n",
    "#\n",
    "#     for index, value in code_255_col.iteritems():\n",
    "#         if value:\n",
    "#             row = df_eeg.loc[index]\n",
    "#             print(f\"Key {key} index {index}: event_code:{row['event_code']} type:{row['type']}\")"
   ],
   "metadata": {
    "collapsed": false,
    "pycharm": {
     "name": "#%% Check that trial_type\n"
    }
   }
  },
  {
   "cell_type": "markdown",
   "source": [
    "### Verify event codes agree with headIT\n",
    "They do except for code 255."
   ],
   "metadata": {
    "collapsed": false
   }
  },
  {
   "cell_type": "markdown",
   "source": [
    "Find out which files have a cond_code of 0"
   ],
   "metadata": {
    "collapsed": false,
    "pycharm": {
     "name": "#%% md\n"
    }
   }
  },
  {
   "cell_type": "code",
   "execution_count": 19,
   "outputs": [
    {
     "name": "stdout",
     "output_type": "stream",
     "text": [
      "sub-020_run-01: has 109 cond_code value 0\n",
      "sub-021_run-01: has 130 cond_code value 0\n",
      "sub-022_run-01: has 67 cond_code value 0\n",
      "sub-031_run-01: has 6067 cond_code value 0\n"
     ]
    }
   ],
   "source": [
    "# for key, file in eeg_file_dict.items():\n",
    "#     df_eeg = get_new_dataframe(file)\n",
    "#     trial_col = df_eeg['cond_code'].map(str) == '0'\n",
    "#     num_zeros = sum(trial_col)\n",
    "#     if num_zeros:\n",
    "#         print(f\"{key}: has {sum(trial_col)} cond_code value 0\")"
   ],
   "metadata": {
    "collapsed": false,
    "pycharm": {
     "name": "#%%\n"
    }
   }
  },
  {
   "cell_type": "markdown",
   "source": [
    "#### Find unique key column combinations\n",
    "\n",
    "Use the `KeyTemplate` class to find the unique value combinations\n",
    "of `cond_code` and `event_code` are properly used.\n",
    "\n",
    "Note:  Codes 1 through 6 should be in nonshifted\n",
    "       Codes 7 through 14 should be in shift condition\n",
    "\n",
    "       Codes 199, 201, 202, and 255 are not related to condition.\n",
    "\n"
   ],
   "metadata": {
    "collapsed": false,
    "pycharm": {
     "name": "#%% md\n"
    }
   }
  },
  {
   "cell_type": "code",
   "execution_count": 18,
   "outputs": [
    {
     "name": "stdout",
     "output_type": "stream",
     "text": [
      "Counts for key [['cond_code', 'event_code']]:\n",
      "[0, 1]\t240\n",
      "[0, 2]\t240\n",
      "[0, 3]\t192\n",
      "[0, 4]\t192\n",
      "[0, 5]\t772\n",
      "[0, 6]\t769\n",
      "[0, 7]\t192\n",
      "[0, 8]\t192\n",
      "[0, 9]\t96\n",
      "[0, 10]\t96\n",
      "[0, 11]\t768\n",
      "[0, 12]\t766\n",
      "[0, 13]\t385\n",
      "[0, 14]\t383\n",
      "[0, 199]\t306\n",
      "[0, 201]\t764\n",
      "[0, 202]\t20\n",
      "[1, 1]\t2411\n",
      "[1, 2]\t2407\n",
      "[1, 3]\t4524\n",
      "[1, 4]\t4524\n",
      "[1, 5]\t18089\n",
      "[1, 6]\t18090\n",
      "[1, 7]\t192\n",
      "[1, 8]\t192\n",
      "[1, 9]\t96\n",
      "[1, 10]\t96\n",
      "[1, 11]\t766\n",
      "[1, 12]\t766\n",
      "[1, 13]\t384\n",
      "[1, 14]\t382\n",
      "[1, 201]\t5075\n",
      "[1, 202]\t190\n",
      "[2, 1]\t2242\n",
      "[2, 2]\t2245\n",
      "[2, 3]\t4484\n",
      "[2, 4]\t4489\n",
      "[2, 5]\t17927\n",
      "[2, 6]\t17923\n",
      "[2, 8]\t2\n",
      "[2, 12]\t3\n",
      "[2, 201]\t4545\n",
      "[2, 202]\t185\n",
      "[3, 1]\t6810\n",
      "[3, 2]\t6809\n",
      "[3, 3]\t96\n",
      "[3, 4]\t96\n",
      "[3, 5]\t383\n",
      "[3, 6]\t385\n",
      "[3, 7]\t9022\n",
      "[3, 8]\t9022\n",
      "[3, 9]\t4504\n",
      "[3, 10]\t4510\n",
      "[3, 11]\t36014\n",
      "[3, 12]\t35989\n",
      "[3, 13]\t18009\n",
      "[3, 14]\t18014\n",
      "[3, 201]\t18644\n",
      "[3, 202]\t533\n"
     ]
    }
   ],
   "source": [
    "# from hed.tools.key_template import KeyTemplate\n",
    "# key_columns = ['cond_code', 'event_code']\n",
    "# template = KeyTemplate(key_columns)\n",
    "# for file in event_files_eeg:\n",
    "#     template.update(file)\n",
    "# template.resort()\n",
    "# template.print()"
   ],
   "metadata": {
    "collapsed": false,
    "pycharm": {
     "name": "#%% Use KeyTemplate to get the counts for each unique combination of key columns.\n"
    }
   }
  }
 ],
 "metadata": {
  "kernelspec": {
   "display_name": "Python 3",
   "language": "python",
   "name": "python3"
  },
  "language_info": {
   "codemirror_mode": {
    "name": "ipython",
    "version": 2
   },
   "file_extension": ".py",
   "mimetype": "text/x-python",
   "name": "python",
   "nbconvert_exporter": "python",
   "pygments_lexer": "ipython2",
   "version": "2.7.6"
  }
 },
 "nbformat": 4,
 "nbformat_minor": 0
}