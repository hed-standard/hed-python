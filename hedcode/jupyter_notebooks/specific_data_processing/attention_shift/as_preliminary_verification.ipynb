{
 "cells": [
  {
   "cell_type": "markdown",
   "metadata": {
    "collapsed": true,
    "pycharm": {
     "name": "#%% md\n"
    }
   },
   "source": [
    "## Preliminary verification of the Attention Shift dataset\n",
    "\n",
    "This script is designed to check specific relationships in the events files.\n",
    "The checks are very specific to the dataset. The script assumes that the data\n",
    "is in BIDS format and that each BIDS events file of the form `_events.tsv`\n",
    "has a corresponding events file with suffix `_events_temp.tsv` that was previously\n",
    "dumped from the `EEG.set` files.\n",
    "\n",
    "In order to compare the events coming from the BIDS events files and those\n",
    "from the EEG.set files, the script creates dictionaries of `key` to full path\n",
    "for each type of file.  The `key` is of the form `sub-xxx_run-y` which\n",
    "uniquely specify each event file in the dataset. If a dataset contains\n",
    "multiple sessions for each subject, the `key` should include additional\n",
    "parts of the file name to uniquely specify each subject.\n",
    "\n",
    "The following verifications are performed:\n",
    "### Verification of relationships:\n",
    "\n",
    "These relationships are checked for each event file:\n",
    "1. EEG `cond_code` == BIDS `trial_type`\n",
    "2. EEG `type` == BIDS `value`"
   ]
  },
  {
   "cell_type": "code",
   "execution_count": null,
   "outputs": [],
   "source": [
    "bids_root_path = 'G:/AttentionShift/AttentionShiftExperiments'\n",
    "bids_skip = ['onset', 'duration', 'sample', 'stim_file', 'HED']\n",
    "eeg_skip = ['latency', 'urevent', 'usertags', 'sample_offset']"
   ],
   "metadata": {
    "collapsed": false,
    "pycharm": {
     "name": "#%% Setup the root path and the columns to ignore\n"
    }
   }
  },
  {
   "cell_type": "code",
   "execution_count": null,
   "outputs": [],
   "source": [
    "from hed.tools.io_utils import get_file_list, make_file_dict\n",
    "\n",
    "# Construct the dictionary for BIDS events files\n",
    "files_bids = get_file_list(bids_root_path, extensions=[\".tsv\"], name_suffix=\"_events\")\n",
    "files_eeg = get_file_list(bids_root_path, extensions=[\".tsv\"], name_suffix=\"_events_temp\")\n",
    "dict_bids = make_file_dict(files_bids)\n",
    "files_eeg = get_file_list(bids_root_path, extensions=[\".tsv\"], name_suffix=\"_events_temp\")\n"
   ],
   "metadata": {
    "collapsed": false,
    "pycharm": {
     "name": "#%% Verify the column names for the BIDS files\n"
    }
   }
  },
  {
   "cell_type": "code",
   "execution_count": null,
   "outputs": [],
   "source": [
    "print(\"Checking cond_code == trial_type and type == value\")\n",
    "for key, file_eeg in eeg_file_dict.items():\n",
    "    # Get the column dictionaries for corresponding files\n",
    "    eeg_dict = eeg_dicts[key]\n",
    "    bids_dict = bids_dicts[key]\n",
    "    eeg_type_dict = eeg_dict.categorical_info['type']\n",
    "    eeg_cond_dict = eeg_dict.categorical_info['cond_code']\n",
    "    bids_value_dict = bids_dict.categorical_info['value']\n",
    "    bids_trial_type_dict = bids_dict.categorical_info['trial_type']\n",
    "\n",
    "    # Check number of values match for cond_code == trial_type\n",
    "    for key1, count_eeg in eeg_cond_dict.items():\n",
    "        count_orig = bids_trial_type_dict[key1]\n",
    "        if count_eeg != count_orig:\n",
    "            print(f\"EEG key {key} cond_code {count_eeg} != orig trial_type {count_orig}\")\n",
    "\n",
    "    # Check number of values match for cond_code == trial_type\n",
    "    for key1, count_eeg in eeg_type_dict.items():\n",
    "        count_orig = bids_value_dict[key1]\n",
    "        if count_eeg != count_orig:\n",
    "            print(f\"EEG key {key} type {count_eeg} != orig value {count_orig}\")\n"
   ],
   "metadata": {
    "collapsed": false,
    "pycharm": {
     "name": "#%%  Output some basic differences\n"
    }
   }
  },
  {
   "cell_type": "markdown",
   "source": [
    "### Check EEG relationships\n",
    "\n",
    "1. EEG  `cond_code` + `event_code` == EEG `type` unless `cond_code` == 0 or\n",
    "`event_code` == 202\n",
    "2. EEG `event_code` == 255"
   ],
   "metadata": {
    "collapsed": false
   }
  },
  {
   "cell_type": "code",
   "execution_count": null,
   "outputs": [],
   "source": [
    "# for key, file in eeg_file_dict.items():\n",
    "#     df_eeg = get_new_dataframe(file)\n",
    "#     df_eeg.drop(['sample_offset', 'latency', 'urevent', 'usertags'], axis=1, inplace=True)\n",
    "#     df_eeg['new_col'] = df_eeg['cond_code'].map(str) + df_eeg['event_code'].map(str)\n",
    "#     code_255_col = df_eeg['event_code'].map(str) == '255'\n",
    "#     trial_col = df_eeg['cond_code'].map(str) != '0'\n",
    "#     pause_col = df_eeg['event_code'].map(str) != '202'\n",
    "#     type_col = df_eeg['type'].map(str) != '202'\n",
    "#     comp_col = df_eeg['new_col'].map(str) != df_eeg[\"type\"].map(str)\n",
    "#     x = comp_col & trial_col & pause_col\n",
    "#     y = (type_col & ~pause_col) | (~type_col & pause_col)\n",
    "#     print(f\"{key}: has {sum(x)} event_code and {sum(y)} 202 type disagreements :\")\n",
    "#     for index, value in x.iteritems():\n",
    "#         if value:\n",
    "#             row = df_eeg.loc[index]\n",
    "#             print(f\"Key {key} index {index}: event_code:{row['event_code']} type:{row['type']} cond_code:{row['cond_code']}\")\n",
    "#\n",
    "#     for index, value in y.iteritems():\n",
    "#         if value:\n",
    "#             row = df_eeg.loc[index]\n",
    "#             print(f\"Key {key} index {index}: event_code:{row['event_code']} type:{row['type']}\")\n",
    "#\n",
    "#     for index, value in code_255_col.iteritems():\n",
    "#         if value:\n",
    "#             row = df_eeg.loc[index]\n",
    "#             print(f\"Key {key} index {index}: event_code:{row['event_code']} type:{row['type']}\")\n",
    "#"
   ],
   "metadata": {
    "collapsed": false,
    "pycharm": {
     "name": "#%% Check that trial_type\n"
    }
   }
  }
 ],
 "metadata": {
  "kernelspec": {
   "display_name": "Python 3",
   "language": "python",
   "name": "python3"
  },
  "language_info": {
   "codemirror_mode": {
    "name": "ipython",
    "version": 2
   },
   "file_extension": ".py",
   "mimetype": "text/x-python",
   "name": "python",
   "nbconvert_exporter": "python",
   "pygments_lexer": "ipython2",
   "version": "2.7.6"
  }
 },
 "nbformat": 4,
 "nbformat_minor": 0
}