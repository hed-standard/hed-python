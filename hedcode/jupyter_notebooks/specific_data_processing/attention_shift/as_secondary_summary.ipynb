{
 "cells": [
  {
   "cell_type": "markdown",
   "metadata": {
    "collapsed": true,
    "pycharm": {
     "name": "#%% md\n"
    }
   },
   "source": [
    "### Verification of relationships:\n",
    "\n",
    "These relationships are checked for each event file:\n",
    "1. EEG `cond_code` == BIDS `trial_type`\n",
    "2. EEG `type` == BIDS `value`\n"
   ]
  },
  {
   "cell_type": "code",
   "execution_count": null,
   "outputs": [],
   "source": [
    "# print(\"Checking cond_code == trial_type and type == value\")\n",
    "# for key, file_eeg in eeg_file_dict.items():\n",
    "#     # Get the column dictionaries for corresponding files\n",
    "#     eeg_dict = eeg_dicts[key]\n",
    "#     bids_dict = bids_dicts[key]\n",
    "#     eeg_type_dict = eeg_dict.categorical_info['type']\n",
    "#     eeg_cond_dict = eeg_dict.categorical_info['cond_code']\n",
    "#     bids_value_dict = bids_dict.categorical_info['value']\n",
    "#     bids_trial_type_dict = bids_dict.categorical_info['trial_type']\n",
    "#\n",
    "#     # Check number of values match for cond_code == trial_type\n",
    "#     for key1, count_eeg in eeg_cond_dict.items():\n",
    "#         count_orig = bids_trial_type_dict[key1]\n",
    "#         if count_eeg != count_orig:\n",
    "#             print(f\"EEG key {key} cond_code {count_eeg} != orig trial_type {count_orig}\")\n",
    "#\n",
    "#     # Check number of values match for cond_code == trial_type\n",
    "#     for key1, count_eeg in eeg_type_dict.items():\n",
    "#         count_orig = bids_value_dict[key1]\n",
    "#         if count_eeg != count_orig:\n",
    "#             print(f\"EEG key {key} type {count_eeg} != orig value {count_orig}\")\n",
    "#"
   ],
   "metadata": {
    "collapsed": false,
    "pycharm": {
     "name": "#%%  Output some basic differences\n"
    }
   }
  },
  {
   "cell_type": "markdown",
   "source": [
    "### Check EEG relationships\n",
    "\n",
    "1. EEG  `cond_code` + `event_code` == EEG `type` unless `cond_code` == 0 or\n",
    "`event_code` == 202\n",
    "2. EEG `event_code` == 255"
   ],
   "metadata": {
    "collapsed": false
   }
  },
  {
   "cell_type": "code",
   "execution_count": null,
   "outputs": [],
   "source": [
    "# for key, file in eeg_file_dict.items():\n",
    "#     df_eeg = get_new_dataframe(file)\n",
    "#     df_eeg.drop(['sample_offset', 'latency', 'urevent', 'usertags'], axis=1, inplace=True)\n",
    "#     df_eeg['new_col'] = df_eeg['cond_code'].map(str) + df_eeg['event_code'].map(str)\n",
    "#     code_255_col = df_eeg['event_code'].map(str) == '255'\n",
    "#     trial_col = df_eeg['cond_code'].map(str) != '0'\n",
    "#     pause_col = df_eeg['event_code'].map(str) != '202'\n",
    "#     type_col = df_eeg['type'].map(str) != '202'\n",
    "#     comp_col = df_eeg['new_col'].map(str) != df_eeg[\"type\"].map(str)\n",
    "#     x = comp_col & trial_col & pause_col\n",
    "#     y = (type_col & ~pause_col) | (~type_col & pause_col)\n",
    "#     print(f\"{key}: has {sum(x)} event_code and {sum(y)} 202 type disagreements :\")\n",
    "#     for index, value in x.iteritems():\n",
    "#         if value:\n",
    "#             row = df_eeg.loc[index]\n",
    "#             print(f\"Key {key} index {index}: event_code:{row['event_code']} type:{row['type']} cond_code:{row['cond_code']}\")\n",
    "#\n",
    "#     for index, value in y.iteritems():\n",
    "#         if value:\n",
    "#             row = df_eeg.loc[index]\n",
    "#             print(f\"Key {key} index {index}: event_code:{row['event_code']} type:{row['type']}\")\n",
    "#\n",
    "#     for index, value in code_255_col.iteritems():\n",
    "#         if value:\n",
    "#             row = df_eeg.loc[index]\n",
    "#             print(f\"Key {key} index {index}: event_code:{row['event_code']} type:{row['type']}\")"
   ],
   "metadata": {
    "collapsed": false,
    "pycharm": {
     "name": "#%% Check that trial_type\n"
    }
   }
  },
  {
   "cell_type": "markdown",
   "source": [
    "### Verify event codes agree with headIT\n",
    "They do except for code 255."
   ],
   "metadata": {
    "collapsed": false
   }
  },
  {
   "cell_type": "markdown",
   "source": [
    "Find out which files have a cond_code of 0\n",
    "\n",
    "## Recheck of Sternberg after preliminary restructuring\n",
    "\n",
    "Basic check:\n",
    "1. Output the dictionaries for both the BIDS and the EEG.\n",
    "2. Check that BIDS value column == EEG type column\n",
    "3. Check that the durations are similar.\n",
    "\n",
    "Once that is done add a `events_temp4.tsv` which has columns `event_type`,\n",
    "`task_role`, `memory_cond`, and `letter`  filled with 'n/a'."
   ],
   "metadata": {
    "collapsed": false
   }
  },
  {
   "cell_type": "code",
   "execution_count": 1,
   "outputs": [],
   "source": [
    "print(\"Setting up the paths and skip columns\")\n",
    "bids_root_path = 'G:/Sternberg/SternbergWorking/'\n",
    "bids_skip = ['onset', 'duration', 'sample']\n",
    "eeg_skip = ['latency', 'duration']"
   ],
   "metadata": {
    "collapsed": false,
    "pycharm": {
     "name": "#%% Setup the structure and column names\n"
    }
   }
  },
  {
   "cell_type": "code",
   "execution_count": 2,
   "outputs": [],
   "source": [
    "from hed.tools.io_utils import get_file_list, make_file_dict\n",
    "\n",
    "# Construct the dictionary for BIDS events files\n",
    "files_bids = get_file_list(bids_root_path, extensions=[\".tsv\"], name_suffix=\"_events_temp2\")\n",
    "bids_dict = make_file_dict(files_bids, indices=(0, -3))\n",
    "files_eeg = get_file_list(bids_root_path, extensions=[\".tsv\"], name_suffix=\"_events_temp3\")\n",
    "eeg_dict = make_file_dict(files_eeg, indices=(0, -3))\n"
   ],
   "metadata": {
    "collapsed": false,
    "pycharm": {
     "name": "#%% Create dictionaries for the BIDS events files and the EEG.event files\n"
    }
   }
  },
  {
   "cell_type": "code",
   "execution_count": 3,
   "outputs": [
    {
     "name": "stdout",
     "output_type": "stream",
     "text": [
      "\n",
      "BIDS events summary:\n",
      "Summary for column dictionary :\n",
      "  Categorical columns (1):\n",
      "    value (69 distinct values):\n",
      "      1: 2395\n",
      "      255: 1831\n",
      "      B: 333\n",
      "      C: 438\n",
      "      D: 594\n",
      "      F: 461\n",
      "      G: 533\n",
      "      H: 502\n",
      "      J: 428\n",
      "      K: 604\n",
      "      L: 566\n",
      "      M: 626\n",
      "      N: 441\n",
      "      P: 404\n",
      "      Q: 418\n",
      "      R: 630\n",
      "      S: 582\n",
      "      T: 445\n",
      "      V: 528\n",
      "      W: 464\n",
      "      WM: 2097\n",
      "      X: 408\n",
      "      Y: 484\n",
      "      Z: 601\n",
      "      correct: 1868\n",
      "      gB: 314\n",
      "      gC: 505\n",
      "      gD: 269\n",
      "      gF: 293\n",
      "      gG: 336\n",
      "      gH: 400\n",
      "      gJ: 327\n",
      "      gK: 217\n",
      "      gL: 140\n",
      "      gM: 436\n",
      "      gN: 238\n",
      "      gP: 333\n",
      "      gQ: 362\n",
      "      gR: 293\n",
      "      gS: 204\n",
      "      gT: 343\n",
      "      gV: 214\n",
      "      gW: 305\n",
      "      gX: 240\n",
      "      gY: 186\n",
      "      gZ: 338\n",
      "      nonWM: 2111\n",
      "      rB: 179\n",
      "      rC: 83\n",
      "      rD: 55\n",
      "      rF: 82\n",
      "      rG: 115\n",
      "      rH: 62\n",
      "      rJ: 134\n",
      "      rK: 116\n",
      "      rL: 177\n",
      "      rM: 60\n",
      "      rN: 37\n",
      "      rP: 94\n",
      "      rQ: 133\n",
      "      rR: 152\n",
      "      rS: 97\n",
      "      rT: 45\n",
      "      rV: 114\n",
      "      rW: 50\n",
      "      rX: 103\n",
      "      rY: 82\n",
      "      rZ: 127\n",
      "      wrong: 133\n",
      "  Value columns (0):\n",
      "\n",
      "EEG.event events summary:\n",
      "Summary for column dictionary :\n",
      "  Categorical columns (3):\n",
      "    Event_Type (3 distinct values):\n",
      "      Picture: 23088\n",
      "      Response: 4226\n",
      "      Sound: 2001\n",
      "    Trial (51 distinct values):\n",
      "      0: 6\n",
      "      1: 990\n",
      "      10: 176\n",
      "      11: 1000\n",
      "      12: 176\n",
      "      13: 1010\n",
      "      14: 176\n",
      "      15: 1001\n",
      "      16: 186\n",
      "      17: 1002\n",
      "      18: 206\n",
      "      19: 980\n",
      "      2: 166\n",
      "      20: 206\n",
      "      21: 970\n",
      "      22: 207\n",
      "      23: 991\n",
      "      24: 208\n",
      "      25: 1000\n",
      "      26: 186\n",
      "      27: 1000\n",
      "      28: 185\n",
      "      29: 988\n",
      "      3: 1010\n",
      "      30: 185\n",
      "      31: 998\n",
      "      32: 174\n",
      "      33: 998\n",
      "      34: 174\n",
      "      35: 998\n",
      "      36: 174\n",
      "      37: 998\n",
      "      38: 174\n",
      "      39: 998\n",
      "      4: 166\n",
      "      40: 174\n",
      "      41: 999\n",
      "      42: 184\n",
      "      43: 978\n",
      "      44: 183\n",
      "      45: 976\n",
      "      46: 182\n",
      "      47: 964\n",
      "      48: 180\n",
      "      49: 930\n",
      "      5: 1008\n",
      "      50: 152\n",
      "      6: 176\n",
      "      7: 1000\n",
      "      8: 176\n",
      "      9: 990\n",
      "    type (69 distinct values):\n",
      "      1: 2395\n",
      "      255: 1831\n",
      "      B: 333\n",
      "      C: 438\n",
      "      D: 594\n",
      "      F: 461\n",
      "      G: 533\n",
      "      H: 502\n",
      "      J: 428\n",
      "      K: 604\n",
      "      L: 566\n",
      "      M: 626\n",
      "      N: 441\n",
      "      P: 404\n",
      "      Q: 418\n",
      "      R: 630\n",
      "      S: 582\n",
      "      T: 445\n",
      "      V: 528\n",
      "      W: 464\n",
      "      WM: 2097\n",
      "      X: 408\n",
      "      Y: 484\n",
      "      Z: 601\n",
      "      correct: 1868\n",
      "      gB: 314\n",
      "      gC: 505\n",
      "      gD: 269\n",
      "      gF: 293\n",
      "      gG: 336\n",
      "      gH: 400\n",
      "      gJ: 327\n",
      "      gK: 217\n",
      "      gL: 140\n",
      "      gM: 436\n",
      "      gN: 238\n",
      "      gP: 333\n",
      "      gQ: 362\n",
      "      gR: 293\n",
      "      gS: 204\n",
      "      gT: 343\n",
      "      gV: 214\n",
      "      gW: 305\n",
      "      gX: 240\n",
      "      gY: 186\n",
      "      gZ: 338\n",
      "      nonWM: 2111\n",
      "      rB: 179\n",
      "      rC: 83\n",
      "      rD: 55\n",
      "      rF: 82\n",
      "      rG: 115\n",
      "      rH: 62\n",
      "      rJ: 134\n",
      "      rK: 116\n",
      "      rL: 177\n",
      "      rM: 60\n",
      "      rN: 37\n",
      "      rP: 94\n",
      "      rQ: 133\n",
      "      rR: 152\n",
      "      rS: 97\n",
      "      rT: 45\n",
      "      rV: 114\n",
      "      rW: 50\n",
      "      rX: 103\n",
      "      rY: 82\n",
      "      rZ: 127\n",
      "      wrong: 133\n",
      "  Value columns (0):\n"
     ]
    }
   ],
   "source": [
    "from hed.tools.map_utils import make_combined_dicts\n",
    "\n",
    "bids_dicts_all, bids_dicts =  make_combined_dicts(bids_dict, skip_cols=bids_skip)\n",
    "print('\\nBIDS events summary:')\n",
    "bids_dicts_all.print()\n",
    "\n",
    "eeg_dicts_all, eeg_dicts =  make_combined_dicts(eeg_dict, skip_cols=eeg_skip)\n",
    "print('\\nEEG.event events summary:')\n",
    "eeg_dicts_all.print()"
   ],
   "metadata": {
    "collapsed": false,
    "pycharm": {
     "name": "#%% Create and output the summary dictionaries\n"
    }
   }
  },
  {
   "cell_type": "code",
   "source": [
    "import pandas as pd\n",
    "import numpy as np\n",
    "from hed.tools.io_utils import get_new_dataframe\n",
    "\n",
    "print(f\"\\nChecking the relationship between files\")\n",
    "for key, file in bids_dict.items():\n",
    "    df_bids = get_new_dataframe(file)\n",
    "    df_eeg = get_new_dataframe(eeg_dict[key])\n",
    "    if len(df_bids.index) != len(df_eeg.index):\n",
    "        print(f\"{key}: BIDS has {len(df_bids.index)} events while EEG has {len(df_eeg.index)} events\")\n",
    "        continue\n",
    "    type_check = df_bids['value'].map(str) != df_eeg['type'].map(str)\n",
    "    if sum(type_check):\n",
    "        print(f\"{key}: BIDS value and EEG type columns differ in  {sum(type_check)} positions\")\n",
    "    bids_duration = pd.to_numeric(df_bids['duration'], errors='coerce')\n",
    "    eeg_duration = pd.to_numeric(df_eeg['duration'], errors='coerce')\n",
    "    duration_check = np.allclose(bids_duration, eeg_duration)\n",
    "    if not duration_check:\n",
    "        duration_count = np.isclose(bids_duration, eeg_duration)\n",
    "        print(f\"{key}: BIDS and EEG duration columns differ in  {sum(duration_check)} positions\")\n",
    "    max_trial = df_bids['trial'].max()\n",
    "    letter_mask = df_bids['event_type'].map(str) == 'show_letter'\n",
    "    role_mask = (df_bids['task_role'].map(str) == 'nontarget') | (df_bids['task_role'].map(str) == 'target')\n",
    "    duration_max = df_bids.loc(letter_mask & role_mask, 'duration').max()\n",
    "    duration_min = df_bids.loc(letter_mask & role_mask, 'duration').min()\n",
    "    print(f\"{key}: max letter duration = {duration_max} min letter duration = {duration_min}\")"
   ],
   "metadata": {
    "collapsed": false,
    "pycharm": {
     "name": "#%% Verify the relationships between the two datasets\n"
    }
   },
   "execution_count": 4,
   "outputs": [
    {
     "name": "stdout",
     "output_type": "stream",
     "text": [
      "\n",
      "Checking the relationship between files\n"
     ]
    }
   ]
  }
 ],
 "metadata": {
  "kernelspec": {
   "display_name": "Python 3",
   "language": "python",
   "name": "python3"
  },
  "language_info": {
   "codemirror_mode": {
    "name": "ipython",
    "version": 2
   },
   "file_extension": ".py",
   "mimetype": "text/x-python",
   "name": "python",
   "nbconvert_exporter": "python",
   "pygments_lexer": "ipython2",
   "version": "2.7.6"
  }
 },
 "nbformat": 4,
 "nbformat_minor": 0
}