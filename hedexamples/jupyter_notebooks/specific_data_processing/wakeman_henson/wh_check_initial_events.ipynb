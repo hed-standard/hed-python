{
 "cells": [
  {
   "cell_type": "markdown",
   "metadata": {
    "collapsed": true,
    "pycharm": {
     "name": "#%% md\n"
    }
   },
   "source": [
    "## Check initial WH events\n",
    "\n",
    "The first display event for WH varies across dataset.  This script checks the first\n",
    "event after the setup in each event file.\n"
   ]
  },
  {
   "cell_type": "code",
   "execution_count": 1,
   "outputs": [],
   "source": [
    "from hed.tools import get_file_list\n",
    "bids_root_path = 'G:/WH_working'\n",
    "event_files_bids = get_file_list(bids_root_path, types=[\".tsv\"], suffix=\"_events\")\n",
    "bids_skip = ['onset', 'duration', 'sample', 'response_time', 'stim_file', 'HED']"
   ],
   "metadata": {
    "collapsed": false,
    "pycharm": {
     "name": "#%% Get list of BIDS event files\n"
    }
   }
  },
  {
   "cell_type": "markdown",
   "source": [
    "We print out the column names of each event file to make sure uniform."
   ],
   "metadata": {
    "collapsed": false,
    "pycharm": {
     "name": "#%% md\n"
    }
   }
  },
  {
   "cell_type": "code",
   "execution_count": 2,
   "outputs": [
    {
     "name": "stdout",
     "output_type": "stream",
     "text": [
      "\n",
      "BIDS form of the events: 108\n",
      "sub-002_run-1: setup_right_sym   show_face\n",
      "sub-002_run-2: setup_right_sym   show_face\n",
      "sub-002_run-3: setup_right_sym   show_face\n",
      "sub-002_run-4: setup_right_sym   show_face\n",
      "sub-002_run-5: setup_right_sym   show_face\n",
      "sub-002_run-6: setup_right_sym   show_face\n",
      "sub-003_run-1: setup_right_sym   show_face\n",
      "sub-003_run-2: setup_right_sym   show_face\n",
      "sub-003_run-3: setup_right_sym   show_face\n",
      "sub-003_run-4: setup_right_sym   show_face\n",
      "sub-003_run-5: setup_right_sym   show_face\n",
      "sub-003_run-6: setup_right_sym   show_face\n",
      "sub-004_run-1: setup_right_sym   show_face\n",
      "sub-004_run-2: setup_right_sym   show_face\n",
      "sub-004_run-3: setup_right_sym   show_face\n",
      "sub-004_run-4: setup_right_sym   show_face\n",
      "sub-004_run-5: setup_right_sym   show_face\n",
      "sub-004_run-6: setup_right_sym   show_face\n",
      "sub-005_run-1: setup_right_sym   show_face\n",
      "sub-005_run-2: setup_right_sym   show_face\n",
      "sub-005_run-3: setup_right_sym   show_face\n",
      "sub-005_run-4: setup_right_sym   show_face\n",
      "sub-005_run-5: setup_right_sym   show_face\n",
      "sub-005_run-6: setup_right_sym   show_face\n",
      "sub-006_run-1: setup_right_sym   show_face\n",
      "sub-006_run-2: setup_right_sym   show_face\n",
      "sub-006_run-3: setup_right_sym   show_face\n",
      "sub-006_run-4: setup_right_sym   show_face\n",
      "sub-006_run-5: setup_right_sym   show_face\n",
      "sub-006_run-6: setup_right_sym   show_face\n",
      "sub-007_run-1: setup_right_sym   show_face\n",
      "sub-007_run-2: setup_right_sym   show_face\n",
      "sub-007_run-3: setup_right_sym   show_face\n",
      "sub-007_run-4: setup_right_sym   show_face\n",
      "sub-007_run-5: setup_right_sym   show_face\n",
      "sub-007_run-6: setup_right_sym   show_face\n",
      "sub-008_run-1: setup_right_sym   show_face\n",
      "sub-008_run-2: setup_right_sym   show_face\n",
      "sub-008_run-3: setup_right_sym   show_face\n",
      "sub-008_run-4: setup_right_sym   show_face\n",
      "sub-008_run-5: setup_right_sym   show_face\n",
      "sub-008_run-6: setup_right_sym   show_face\n",
      "sub-009_run-1: setup_right_sym   show_face\n",
      "sub-009_run-2: setup_right_sym   show_face\n",
      "sub-009_run-3: setup_right_sym   show_face\n",
      "sub-009_run-4: setup_right_sym   show_face\n",
      "sub-009_run-5: setup_right_sym   show_face\n",
      "sub-009_run-6: setup_right_sym   show_face\n",
      "sub-010_run-1: setup_right_sym   show_face\n",
      "sub-010_run-2: setup_right_sym   show_face\n",
      "sub-010_run-3: setup_right_sym   show_face\n",
      "sub-010_run-4: setup_right_sym   show_face\n",
      "sub-010_run-5: setup_right_sym   show_face\n",
      "sub-010_run-6: setup_right_sym   show_face\n",
      "sub-011_run-1: setup_right_sym   show_face\n",
      "sub-011_run-2: setup_right_sym   show_face\n",
      "sub-011_run-3: setup_right_sym   show_face\n",
      "sub-011_run-4: setup_right_sym   show_face\n",
      "sub-011_run-5: setup_right_sym   show_face\n",
      "sub-011_run-6: setup_right_sym   show_face\n",
      "sub-012_run-1: setup_right_sym   show_face\n",
      "sub-012_run-2: setup_right_sym   show_face\n",
      "sub-012_run-3: setup_right_sym   show_face\n",
      "sub-012_run-4: setup_right_sym   show_face\n",
      "sub-012_run-5: setup_right_sym   show_face\n",
      "sub-012_run-6: setup_right_sym   show_face\n",
      "sub-013_run-1: setup_right_sym   show_face\n",
      "sub-013_run-2: setup_right_sym   show_face\n",
      "sub-013_run-3: setup_right_sym   show_face\n",
      "sub-013_run-4: setup_right_sym   show_face\n",
      "sub-013_run-5: setup_right_sym   show_face\n",
      "sub-013_run-6: setup_right_sym   show_face\n",
      "sub-014_run-1: setup_right_sym   show_face\n",
      "sub-014_run-2: setup_right_sym   show_face\n",
      "sub-014_run-3: setup_right_sym   show_face\n",
      "sub-014_run-4: setup_right_sym   show_face\n",
      "sub-014_run-5: setup_right_sym   show_face\n",
      "sub-014_run-6: setup_right_sym   show_face\n",
      "sub-015_run-1: setup_right_sym   show_face\n",
      "sub-015_run-2: setup_right_sym   show_face\n",
      "sub-015_run-3: setup_right_sym   show_face\n",
      "sub-015_run-4: setup_right_sym   show_face\n",
      "sub-015_run-5: setup_right_sym   show_face\n",
      "sub-015_run-6: setup_right_sym   show_face\n",
      "sub-016_run-1: setup_right_sym   show_face\n",
      "sub-016_run-2: setup_right_sym   show_face\n",
      "sub-016_run-3: setup_right_sym   show_face\n",
      "sub-016_run-4: setup_right_sym   show_face\n",
      "sub-016_run-5: setup_right_sym   show_face\n",
      "sub-016_run-6: setup_right_sym   show_face\n",
      "sub-017_run-1: setup_right_sym   show_face\n",
      "sub-017_run-2: setup_right_sym   show_face\n",
      "sub-017_run-3: setup_right_sym   show_face\n",
      "sub-017_run-4: setup_right_sym   show_face\n",
      "sub-017_run-5: setup_right_sym   show_face\n",
      "sub-017_run-6: setup_right_sym   show_face\n",
      "sub-018_run-1: setup_right_sym   show_face\n",
      "sub-018_run-2: setup_right_sym   show_face\n",
      "sub-018_run-3: setup_right_sym   show_face\n",
      "sub-018_run-4: setup_right_sym   show_face\n",
      "sub-018_run-5: setup_right_sym   show_face\n",
      "sub-018_run-6: setup_right_sym   show_face\n",
      "sub-019_run-1: setup_right_sym   show_face\n",
      "sub-019_run-2: setup_right_sym   show_face\n",
      "sub-019_run-3: setup_right_sym   show_face\n",
      "sub-019_run-4: setup_right_sym   show_face\n",
      "sub-019_run-5: setup_right_sym   show_face\n",
      "sub-019_run-6: setup_right_sym   show_face\n"
     ]
    }
   ],
   "source": [
    "import os\n",
    "from hed.tools import get_new_dataframe\n",
    "\n",
    "print(f\"\\nBIDS form of the events: {len(event_files_bids)}\")\n",
    "for file in event_files_bids:\n",
    "    base = os.path.basename(file)\n",
    "    pieces = base.split('_')\n",
    "    key = f\"{pieces[0]}_{pieces[-2]}\"\n",
    "    df = get_new_dataframe(file)\n",
    "    event_type_0 = df.loc[df.index[0], 'event_type']\n",
    "    event_type_1 = df.loc[df.index[1], 'event_type']\n",
    "    print(f\"{key}: {event_type_0}   {event_type_1}\")\n"
   ],
   "metadata": {
    "collapsed": false,
    "pycharm": {
     "name": "#%% Output column names of the BIDS version of the event files\n"
    }
   }
  }
 ],
 "metadata": {
  "kernelspec": {
   "display_name": "Python 3",
   "language": "python",
   "name": "python3"
  },
  "language_info": {
   "codemirror_mode": {
    "name": "ipython",
    "version": 2
   },
   "file_extension": ".py",
   "mimetype": "text/x-python",
   "name": "python",
   "nbconvert_exporter": "python",
   "pygments_lexer": "ipython2",
   "version": "2.7.6"
  }
 },
 "nbformat": 4,
 "nbformat_minor": 0
}