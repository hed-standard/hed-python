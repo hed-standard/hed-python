{
 "cells": [
  {
   "cell_type": "markdown",
   "metadata": {
    "collapsed": true,
    "pycharm": {
     "name": "#%% md\n"
    }
   },
   "source": [
    "## Fix the initial event\n",
    "\n",
    "The first trial in each W-H event file has a show_face event rather\n",
    "than starting with a fixation cross."
   ]
  },
  {
   "cell_type": "code",
   "execution_count": null,
   "outputs": [],
   "source": [],
   "metadata": {
    "collapsed": false,
    "pycharm": {
     "name": "#%% Set the BIDS root directory\n"
    }
   }
  },
  {
   "cell_type": "code",
   "execution_count": 1,
   "outputs": [],
   "source": [
    "from hed.tools import get_file_list\n",
    "bids_root_path = 'G:/WH_working'\n",
    "event_files_bids = get_file_list(bids_root_path, types=[\".tsv\"], suffix=\"_events\")"
   ],
   "metadata": {
    "collapsed": false,
    "pycharm": {
     "name": "#%% Read in a list of the event files\n"
    }
   }
  },
  {
   "cell_type": "markdown",
   "source": [
    "Change `show_face` to `show_face_initial` in the second event"
   ],
   "metadata": {
    "collapsed": false,
    "pycharm": {
     "name": "#%% md\n"
    }
   }
  },
  {
   "cell_type": "code",
   "execution_count": 2,
   "outputs": [
    {
     "name": "stdout",
     "output_type": "stream",
     "text": [
      "\n",
      "BIDS form of the events: 108\n",
      "G:/WH_working\\sub-002\\eeg\\sub-002_task-FacePerception_run-1_events.tsv\n",
      "G:/WH_working\\sub-002\\eeg\\sub-002_task-FacePerception_run-2_events.tsv\n",
      "G:/WH_working\\sub-002\\eeg\\sub-002_task-FacePerception_run-3_events.tsv\n",
      "G:/WH_working\\sub-002\\eeg\\sub-002_task-FacePerception_run-4_events.tsv\n",
      "G:/WH_working\\sub-002\\eeg\\sub-002_task-FacePerception_run-5_events.tsv\n",
      "G:/WH_working\\sub-002\\eeg\\sub-002_task-FacePerception_run-6_events.tsv\n",
      "G:/WH_working\\sub-003\\eeg\\sub-003_task-FacePerception_run-1_events.tsv\n",
      "G:/WH_working\\sub-003\\eeg\\sub-003_task-FacePerception_run-2_events.tsv\n",
      "G:/WH_working\\sub-003\\eeg\\sub-003_task-FacePerception_run-3_events.tsv\n",
      "G:/WH_working\\sub-003\\eeg\\sub-003_task-FacePerception_run-4_events.tsv\n",
      "G:/WH_working\\sub-003\\eeg\\sub-003_task-FacePerception_run-5_events.tsv\n",
      "G:/WH_working\\sub-003\\eeg\\sub-003_task-FacePerception_run-6_events.tsv\n",
      "G:/WH_working\\sub-004\\eeg\\sub-004_task-FacePerception_run-1_events.tsv\n",
      "G:/WH_working\\sub-004\\eeg\\sub-004_task-FacePerception_run-2_events.tsv\n",
      "G:/WH_working\\sub-004\\eeg\\sub-004_task-FacePerception_run-3_events.tsv\n",
      "G:/WH_working\\sub-004\\eeg\\sub-004_task-FacePerception_run-4_events.tsv\n",
      "G:/WH_working\\sub-004\\eeg\\sub-004_task-FacePerception_run-5_events.tsv\n",
      "G:/WH_working\\sub-004\\eeg\\sub-004_task-FacePerception_run-6_events.tsv\n",
      "G:/WH_working\\sub-005\\eeg\\sub-005_task-FacePerception_run-1_events.tsv\n",
      "G:/WH_working\\sub-005\\eeg\\sub-005_task-FacePerception_run-2_events.tsv\n",
      "G:/WH_working\\sub-005\\eeg\\sub-005_task-FacePerception_run-3_events.tsv\n",
      "G:/WH_working\\sub-005\\eeg\\sub-005_task-FacePerception_run-4_events.tsv\n",
      "G:/WH_working\\sub-005\\eeg\\sub-005_task-FacePerception_run-5_events.tsv\n",
      "G:/WH_working\\sub-005\\eeg\\sub-005_task-FacePerception_run-6_events.tsv\n",
      "G:/WH_working\\sub-006\\eeg\\sub-006_task-FacePerception_run-1_events.tsv\n",
      "G:/WH_working\\sub-006\\eeg\\sub-006_task-FacePerception_run-2_events.tsv\n",
      "G:/WH_working\\sub-006\\eeg\\sub-006_task-FacePerception_run-3_events.tsv\n",
      "G:/WH_working\\sub-006\\eeg\\sub-006_task-FacePerception_run-4_events.tsv\n",
      "G:/WH_working\\sub-006\\eeg\\sub-006_task-FacePerception_run-5_events.tsv\n",
      "G:/WH_working\\sub-006\\eeg\\sub-006_task-FacePerception_run-6_events.tsv\n",
      "G:/WH_working\\sub-007\\eeg\\sub-007_task-FacePerception_run-1_events.tsv\n",
      "G:/WH_working\\sub-007\\eeg\\sub-007_task-FacePerception_run-2_events.tsv\n",
      "G:/WH_working\\sub-007\\eeg\\sub-007_task-FacePerception_run-3_events.tsv\n",
      "G:/WH_working\\sub-007\\eeg\\sub-007_task-FacePerception_run-4_events.tsv\n",
      "G:/WH_working\\sub-007\\eeg\\sub-007_task-FacePerception_run-5_events.tsv\n",
      "G:/WH_working\\sub-007\\eeg\\sub-007_task-FacePerception_run-6_events.tsv\n",
      "G:/WH_working\\sub-008\\eeg\\sub-008_task-FacePerception_run-1_events.tsv\n",
      "G:/WH_working\\sub-008\\eeg\\sub-008_task-FacePerception_run-2_events.tsv\n",
      "G:/WH_working\\sub-008\\eeg\\sub-008_task-FacePerception_run-3_events.tsv\n",
      "G:/WH_working\\sub-008\\eeg\\sub-008_task-FacePerception_run-4_events.tsv\n",
      "G:/WH_working\\sub-008\\eeg\\sub-008_task-FacePerception_run-5_events.tsv\n",
      "G:/WH_working\\sub-008\\eeg\\sub-008_task-FacePerception_run-6_events.tsv\n",
      "G:/WH_working\\sub-009\\eeg\\sub-009_task-FacePerception_run-1_events.tsv\n",
      "G:/WH_working\\sub-009\\eeg\\sub-009_task-FacePerception_run-2_events.tsv\n",
      "G:/WH_working\\sub-009\\eeg\\sub-009_task-FacePerception_run-3_events.tsv\n",
      "G:/WH_working\\sub-009\\eeg\\sub-009_task-FacePerception_run-4_events.tsv\n",
      "G:/WH_working\\sub-009\\eeg\\sub-009_task-FacePerception_run-5_events.tsv\n",
      "G:/WH_working\\sub-009\\eeg\\sub-009_task-FacePerception_run-6_events.tsv\n",
      "G:/WH_working\\sub-010\\eeg\\sub-010_task-FacePerception_run-1_events.tsv\n",
      "G:/WH_working\\sub-010\\eeg\\sub-010_task-FacePerception_run-2_events.tsv\n",
      "G:/WH_working\\sub-010\\eeg\\sub-010_task-FacePerception_run-3_events.tsv\n",
      "G:/WH_working\\sub-010\\eeg\\sub-010_task-FacePerception_run-4_events.tsv\n",
      "G:/WH_working\\sub-010\\eeg\\sub-010_task-FacePerception_run-5_events.tsv\n",
      "G:/WH_working\\sub-010\\eeg\\sub-010_task-FacePerception_run-6_events.tsv\n",
      "G:/WH_working\\sub-011\\eeg\\sub-011_task-FacePerception_run-1_events.tsv\n",
      "G:/WH_working\\sub-011\\eeg\\sub-011_task-FacePerception_run-2_events.tsv\n",
      "G:/WH_working\\sub-011\\eeg\\sub-011_task-FacePerception_run-3_events.tsv\n",
      "G:/WH_working\\sub-011\\eeg\\sub-011_task-FacePerception_run-4_events.tsv\n",
      "G:/WH_working\\sub-011\\eeg\\sub-011_task-FacePerception_run-5_events.tsv\n",
      "G:/WH_working\\sub-011\\eeg\\sub-011_task-FacePerception_run-6_events.tsv\n",
      "G:/WH_working\\sub-012\\eeg\\sub-012_task-FacePerception_run-1_events.tsv\n",
      "G:/WH_working\\sub-012\\eeg\\sub-012_task-FacePerception_run-2_events.tsv\n",
      "G:/WH_working\\sub-012\\eeg\\sub-012_task-FacePerception_run-3_events.tsv\n",
      "G:/WH_working\\sub-012\\eeg\\sub-012_task-FacePerception_run-4_events.tsv\n",
      "G:/WH_working\\sub-012\\eeg\\sub-012_task-FacePerception_run-5_events.tsv\n",
      "G:/WH_working\\sub-012\\eeg\\sub-012_task-FacePerception_run-6_events.tsv\n",
      "G:/WH_working\\sub-013\\eeg\\sub-013_task-FacePerception_run-1_events.tsv\n",
      "G:/WH_working\\sub-013\\eeg\\sub-013_task-FacePerception_run-2_events.tsv\n",
      "G:/WH_working\\sub-013\\eeg\\sub-013_task-FacePerception_run-3_events.tsv\n",
      "G:/WH_working\\sub-013\\eeg\\sub-013_task-FacePerception_run-4_events.tsv\n",
      "G:/WH_working\\sub-013\\eeg\\sub-013_task-FacePerception_run-5_events.tsv\n",
      "G:/WH_working\\sub-013\\eeg\\sub-013_task-FacePerception_run-6_events.tsv\n",
      "G:/WH_working\\sub-014\\eeg\\sub-014_task-FacePerception_run-1_events.tsv\n",
      "G:/WH_working\\sub-014\\eeg\\sub-014_task-FacePerception_run-2_events.tsv\n",
      "G:/WH_working\\sub-014\\eeg\\sub-014_task-FacePerception_run-3_events.tsv\n",
      "G:/WH_working\\sub-014\\eeg\\sub-014_task-FacePerception_run-4_events.tsv\n",
      "G:/WH_working\\sub-014\\eeg\\sub-014_task-FacePerception_run-5_events.tsv\n",
      "G:/WH_working\\sub-014\\eeg\\sub-014_task-FacePerception_run-6_events.tsv\n",
      "G:/WH_working\\sub-015\\eeg\\sub-015_task-FacePerception_run-1_events.tsv\n",
      "G:/WH_working\\sub-015\\eeg\\sub-015_task-FacePerception_run-2_events.tsv\n",
      "G:/WH_working\\sub-015\\eeg\\sub-015_task-FacePerception_run-3_events.tsv\n",
      "G:/WH_working\\sub-015\\eeg\\sub-015_task-FacePerception_run-4_events.tsv\n",
      "G:/WH_working\\sub-015\\eeg\\sub-015_task-FacePerception_run-5_events.tsv\n",
      "G:/WH_working\\sub-015\\eeg\\sub-015_task-FacePerception_run-6_events.tsv\n",
      "G:/WH_working\\sub-016\\eeg\\sub-016_task-FacePerception_run-1_events.tsv\n",
      "G:/WH_working\\sub-016\\eeg\\sub-016_task-FacePerception_run-2_events.tsv\n",
      "G:/WH_working\\sub-016\\eeg\\sub-016_task-FacePerception_run-3_events.tsv\n",
      "G:/WH_working\\sub-016\\eeg\\sub-016_task-FacePerception_run-4_events.tsv\n",
      "G:/WH_working\\sub-016\\eeg\\sub-016_task-FacePerception_run-5_events.tsv\n",
      "G:/WH_working\\sub-016\\eeg\\sub-016_task-FacePerception_run-6_events.tsv\n",
      "G:/WH_working\\sub-017\\eeg\\sub-017_task-FacePerception_run-1_events.tsv\n",
      "G:/WH_working\\sub-017\\eeg\\sub-017_task-FacePerception_run-2_events.tsv\n",
      "G:/WH_working\\sub-017\\eeg\\sub-017_task-FacePerception_run-3_events.tsv\n",
      "G:/WH_working\\sub-017\\eeg\\sub-017_task-FacePerception_run-4_events.tsv\n",
      "G:/WH_working\\sub-017\\eeg\\sub-017_task-FacePerception_run-5_events.tsv\n",
      "G:/WH_working\\sub-017\\eeg\\sub-017_task-FacePerception_run-6_events.tsv\n",
      "G:/WH_working\\sub-018\\eeg\\sub-018_task-FacePerception_run-1_events.tsv\n",
      "G:/WH_working\\sub-018\\eeg\\sub-018_task-FacePerception_run-2_events.tsv\n",
      "G:/WH_working\\sub-018\\eeg\\sub-018_task-FacePerception_run-3_events.tsv\n",
      "G:/WH_working\\sub-018\\eeg\\sub-018_task-FacePerception_run-4_events.tsv\n",
      "G:/WH_working\\sub-018\\eeg\\sub-018_task-FacePerception_run-5_events.tsv\n",
      "G:/WH_working\\sub-018\\eeg\\sub-018_task-FacePerception_run-6_events.tsv\n",
      "G:/WH_working\\sub-019\\eeg\\sub-019_task-FacePerception_run-1_events.tsv\n",
      "G:/WH_working\\sub-019\\eeg\\sub-019_task-FacePerception_run-2_events.tsv\n",
      "G:/WH_working\\sub-019\\eeg\\sub-019_task-FacePerception_run-3_events.tsv\n",
      "G:/WH_working\\sub-019\\eeg\\sub-019_task-FacePerception_run-4_events.tsv\n",
      "G:/WH_working\\sub-019\\eeg\\sub-019_task-FacePerception_run-5_events.tsv\n",
      "G:/WH_working\\sub-019\\eeg\\sub-019_task-FacePerception_run-6_events.tsv\n"
     ]
    }
   ],
   "source": [
    "from hed.tools import get_new_dataframe\n",
    "\n",
    "print(f\"\\nBIDS form of the events: {len(event_files_bids)}\")\n",
    "for file in event_files_bids:\n",
    "    print(file)\n",
    "    df = get_new_dataframe(file)\n",
    "    if  df.loc[df.index[1], 'event_type']== 'show_face':\n",
    "         df.loc[df.index[1], 'event_type'] = 'show_face_initial'\n",
    "    else:\n",
    "        print(f\"...bad first line in {file}\")\n",
    "    df.to_csv(file, sep='\\t', index=False)"
   ],
   "metadata": {
    "collapsed": false,
    "pycharm": {
     "name": "#%% Change the initial file\n"
    }
   }
  }
 ],
 "metadata": {
  "kernelspec": {
   "display_name": "Python 3",
   "language": "python",
   "name": "python3"
  },
  "language_info": {
   "codemirror_mode": {
    "name": "ipython",
    "version": 2
   },
   "file_extension": ".py",
   "mimetype": "text/x-python",
   "name": "python",
   "nbconvert_exporter": "python",
   "pygments_lexer": "ipython2",
   "version": "2.7.6"
  }
 },
 "nbformat": 4,
 "nbformat_minor": 0
}