{
 "cells": [
  {
   "cell_type": "markdown",
   "metadata": {
    "collapsed": true,
    "pycharm": {
     "name": "#%% md\n"
    }
   },
   "source": [
    "## Copy BIDS events files to flat directory\n",
    "\n",
    "This script is designed to copy the event files in a BIDS study\n",
    "to a single directory for uploading into openNeuro.\n",
    "\n",
    "The script also produces a `Events_files.tsv` with a list of\n",
    "file names and their original full-path names."
   ]
  },
  {
   "cell_type": "code",
   "execution_count": 1,
   "outputs": [],
   "source": [
    "import os\n",
    "import shutil\n",
    "from hed.tools import get_file_list\n",
    "\n",
    "bids_root_path = 'G:/WH_working'\n",
    "info_path = 'G:/WH_info'\n",
    "info_file = os.path.join(info_path, \"Event_files.tsv\")\n",
    "\n",
    "event_files_bids = get_file_list(bids_root_path, types=[\".tsv\"], suffix=\"_events\")\n",
    "with open(info_file, \"w\") as text_file:\n",
    "    for file in event_files_bids:\n",
    "        base_name = os.path.basename(file)\n",
    "        new_name = os.path.join(info_path, base_name)\n",
    "        print(f\"{base_name}\\t{file}\", file=text_file)\n",
    "        shutil.copy2(file, new_name)\n"
   ],
   "metadata": {
    "collapsed": false,
    "pycharm": {
     "name": "#%% Produce extra information file with paths for upload to openNeuro\n"
    }
   }
  }
 ],
 "metadata": {
  "kernelspec": {
   "display_name": "Python 3",
   "language": "python",
   "name": "python3"
  },
  "language_info": {
   "codemirror_mode": {
    "name": "ipython",
    "version": 2
   },
   "file_extension": ".py",
   "mimetype": "text/x-python",
   "name": "python",
   "nbconvert_exporter": "python",
   "pygments_lexer": "ipython2",
   "version": "2.7.6"
  }
 },
 "nbformat": 4,
 "nbformat_minor": 0
}