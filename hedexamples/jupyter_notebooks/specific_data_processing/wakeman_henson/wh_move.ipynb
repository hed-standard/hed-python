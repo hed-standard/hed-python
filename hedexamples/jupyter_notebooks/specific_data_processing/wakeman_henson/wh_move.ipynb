{
 "cells": [
  {
   "cell_type": "markdown",
   "metadata": {
    "collapsed": true,
    "pycharm": {
     "name": "#%% md\n"
    }
   },
   "source": [
    "## Move events\n",
    "\n",
    "This script assumes that the revised event files have been created in `_events_temp2.tsv`\n",
    "and the events from the `EEG.set` files are in `_events_temp.tsv`.\n",
    "\n",
    "This script:\n",
    "1) Removes the `_events_temp.tsv` files.\n",
    "2) Removes the `_events.tsv` files.\n",
    "3) Moves the `_events_temp2.tsv` to `_events.tsv`.\n",
    "4) Creates a file with the full path names of the `_events.tsv` files."
   ]
  },
  {
   "cell_type": "code",
   "execution_count": 1,
   "outputs": [],
   "source": [
    "bids_root_path = 'G:/WH_working'\n",
    "info_path = 'G:/WH_info'"
   ],
   "metadata": {
    "collapsed": false,
    "pycharm": {
     "name": "#%% Set the BIDS root directory and the info path\n"
    }
   }
  },
  {
   "cell_type": "code",
   "execution_count": 2,
   "outputs": [],
   "source": [
    "from hed.tools import get_file_list\n",
    "\n",
    "event_files_bids = get_file_list(bids_root_path, types=[\".tsv\"], suffix=\"_events\")\n",
    "event_files_eeg = get_file_list(bids_root_path, types=[\".tsv\"], suffix=\"_events_temp\")\n",
    "event_files_refactored = get_file_list(bids_root_path, types=[\".tsv\"], suffix=\"_events_temp2\")"
   ],
   "metadata": {
    "collapsed": false,
    "pycharm": {
     "name": "#%% Get the lists of various event files\n"
    }
   }
  },
  {
   "cell_type": "code",
   "source": [
    "import os\n",
    "for file in event_files_eeg:\n",
    "    os.remove(file)"
   ],
   "metadata": {
    "collapsed": false,
    "pycharm": {
     "name": "#%% Remove the EEGLAB event files\n"
    }
   },
   "execution_count": 3,
   "outputs": []
  },
  {
   "cell_type": "code",
   "execution_count": 4,
   "outputs": [],
   "source": [
    "for file in event_files_bids:\n",
    "    os.remove(file)"
   ],
   "metadata": {
    "collapsed": false,
    "pycharm": {
     "name": "#%% Remove the original BIDS event files\n"
    }
   }
  },
  {
   "cell_type": "code",
   "execution_count": 5,
   "outputs": [],
   "source": [
    "import os\n",
    "for file in event_files_refactored:\n",
    "    new_name = file[:-10] + \".tsv\"\n",
    "    os.rename(file, new_name)\n"
   ],
   "metadata": {
    "collapsed": false,
    "pycharm": {
     "name": "#%% Move the refactored files to BIDS event files\n"
    }
   }
  }
 ],
 "metadata": {
  "kernelspec": {
   "display_name": "Python 3",
   "language": "python",
   "name": "python3"
  },
  "language_info": {
   "codemirror_mode": {
    "name": "ipython",
    "version": 2
   },
   "file_extension": ".py",
   "mimetype": "text/x-python",
   "name": "python",
   "nbconvert_exporter": "python",
   "pygments_lexer": "ipython2",
   "version": "2.7.6"
  }
 },
 "nbformat": 4,
 "nbformat_minor": 0
}