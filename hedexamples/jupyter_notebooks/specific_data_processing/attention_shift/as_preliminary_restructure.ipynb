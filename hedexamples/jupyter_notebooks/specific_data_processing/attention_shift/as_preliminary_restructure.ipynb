{
 "cells": [
  {
   "cell_type": "markdown",
   "metadata": {
    "collapsed": true,
    "pycharm": {
     "name": "#%% md\n"
    }
   },
   "source": [
    "## Preparation of the Attention Shift dataset\n",
    "\n",
    "This script sets up the event files for the Attention Shift dataset.\n"
   ]
  },
  {
   "cell_type": "markdown",
   "source": [
    "### Set up the file paths\n",
    "\n",
    "This script assumes that the data is in BIDS format and that each BIDS events\n",
    "file of the form `_events.tsv` has a corresponding events file with\n",
    "suffix `_events_temp.tsv` that was previously dumped from the `EEG.set` files."
   ],
   "metadata": {
    "collapsed": false,
    "pycharm": {
     "name": "#%% md\n"
    }
   }
  },
  {
   "cell_type": "code",
   "execution_count": 1,
   "outputs": [],
   "source": [
    "from hed.tools import get_file_list\n",
    "bids_root_path = 'G:/AttentionShift/AttentionShiftExperiments'\n",
    "event_files_bids = get_file_list(bids_root_path, types=[\".tsv\"], suffix=\"_events\")\n",
    "event_files_eeg = get_file_list(bids_root_path, types=[\".tsv\"], suffix=\"_events_temp\")\n",
    "bids_skip = ['onset', 'duration', 'sample', 'stim_file', 'HED']\n",
    "eeg_skip = ['latency', 'urevent', 'usertags', 'sample_offset']"
   ],
   "metadata": {
    "collapsed": false,
    "pycharm": {
     "name": "#%% Setup the structure and column names\n"
    }
   }
  },
  {
   "cell_type": "markdown",
   "source": [
    "### Verify same column names\n",
    "\n",
    "Print the column names for each file to make sure all the same."
   ],
   "metadata": {
    "collapsed": false,
    "pycharm": {
     "name": "#%% md\n"
    }
   }
  },
  {
   "cell_type": "code",
   "execution_count": 2,
   "outputs": [
    {
     "name": "stdout",
     "output_type": "stream",
     "text": [
      "\n",
      "BIDS form of the events:\n",
      "sub-001_run-01: ['onset', 'duration', 'sample', 'trial_type', 'response_time', 'stim_file', 'value', 'HED']\n",
      "sub-002_run-01: ['onset', 'duration', 'sample', 'trial_type', 'response_time', 'stim_file', 'value', 'HED']\n",
      "sub-003_run-01: ['onset', 'duration', 'sample', 'trial_type', 'response_time', 'stim_file', 'value', 'HED']\n",
      "sub-004_run-01: ['onset', 'duration', 'sample', 'trial_type', 'response_time', 'stim_file', 'value', 'HED']\n",
      "sub-004_run-02: ['onset', 'duration', 'sample', 'trial_type', 'response_time', 'stim_file', 'value', 'HED']\n",
      "sub-005_run-01: ['onset', 'duration', 'sample', 'trial_type', 'response_time', 'stim_file', 'value', 'HED']\n",
      "sub-006_run-01: ['onset', 'duration', 'sample', 'trial_type', 'response_time', 'stim_file', 'value', 'HED']\n",
      "sub-007_run-01: ['onset', 'duration', 'sample', 'trial_type', 'response_time', 'stim_file', 'value', 'HED']\n",
      "sub-008_run-01: ['onset', 'duration', 'sample', 'trial_type', 'response_time', 'stim_file', 'value', 'HED']\n",
      "sub-009_run-01: ['onset', 'duration', 'sample', 'trial_type', 'response_time', 'stim_file', 'value', 'HED']\n",
      "sub-010_run-01: ['onset', 'duration', 'sample', 'trial_type', 'response_time', 'stim_file', 'value', 'HED']\n",
      "sub-011_run-01: ['onset', 'duration', 'sample', 'trial_type', 'response_time', 'stim_file', 'value', 'HED']\n",
      "sub-012_run-01: ['onset', 'duration', 'sample', 'trial_type', 'response_time', 'stim_file', 'value', 'HED']\n",
      "sub-013_run-01: ['onset', 'duration', 'sample', 'trial_type', 'response_time', 'stim_file', 'value', 'HED']\n",
      "sub-014_run-01: ['onset', 'duration', 'sample', 'trial_type', 'response_time', 'stim_file', 'value', 'HED']\n",
      "sub-015_run-01: ['onset', 'duration', 'sample', 'trial_type', 'response_time', 'stim_file', 'value', 'HED']\n",
      "sub-016_run-01: ['onset', 'duration', 'sample', 'trial_type', 'response_time', 'stim_file', 'value', 'HED']\n",
      "sub-017_run-01: ['onset', 'duration', 'sample', 'trial_type', 'response_time', 'stim_file', 'value', 'HED']\n",
      "sub-018_run-01: ['onset', 'duration', 'sample', 'trial_type', 'response_time', 'stim_file', 'value', 'HED']\n",
      "sub-019_run-01: ['onset', 'duration', 'sample', 'trial_type', 'response_time', 'stim_file', 'value', 'HED']\n",
      "sub-020_run-01: ['onset', 'duration', 'sample', 'trial_type', 'response_time', 'stim_file', 'value', 'HED']\n",
      "sub-021_run-01: ['onset', 'duration', 'sample', 'trial_type', 'response_time', 'stim_file', 'value', 'HED']\n",
      "sub-021_run-02: ['onset', 'duration', 'sample', 'trial_type', 'response_time', 'stim_file', 'value', 'HED']\n",
      "sub-022_run-01: ['onset', 'duration', 'sample', 'trial_type', 'response_time', 'stim_file', 'value', 'HED']\n",
      "sub-022_run-02: ['onset', 'duration', 'sample', 'trial_type', 'response_time', 'stim_file', 'value', 'HED']\n",
      "sub-023_run-01: ['onset', 'duration', 'sample', 'trial_type', 'response_time', 'stim_file', 'value', 'HED']\n",
      "sub-024_run-01: ['onset', 'duration', 'sample', 'trial_type', 'response_time', 'stim_file', 'value', 'HED']\n",
      "sub-025_run-01: ['onset', 'duration', 'sample', 'trial_type', 'response_time', 'stim_file', 'value', 'HED']\n",
      "sub-026_run-01: ['onset', 'duration', 'sample', 'trial_type', 'response_time', 'stim_file', 'value', 'HED']\n",
      "sub-027_run-01: ['onset', 'duration', 'sample', 'trial_type', 'response_time', 'stim_file', 'value', 'HED']\n",
      "sub-028_run-01: ['onset', 'duration', 'sample', 'trial_type', 'response_time', 'stim_file', 'value', 'HED']\n",
      "sub-028_run-02: ['onset', 'duration', 'sample', 'trial_type', 'response_time', 'stim_file', 'value', 'HED']\n",
      "sub-029_run-01: ['onset', 'duration', 'sample', 'trial_type', 'response_time', 'stim_file', 'value', 'HED']\n",
      "sub-030_run-01: ['onset', 'duration', 'sample', 'trial_type', 'response_time', 'stim_file', 'value', 'HED']\n",
      "sub-031_run-01: ['onset', 'duration', 'sample', 'trial_type', 'response_time', 'stim_file', 'value', 'HED']\n",
      "sub-032_run-01: ['onset', 'duration', 'sample', 'trial_type', 'response_time', 'stim_file', 'value', 'HED']\n",
      "sub-033_run-01: ['onset', 'duration', 'sample', 'trial_type', 'response_time', 'stim_file', 'value', 'HED']\n",
      "sub-034_run-01: ['onset', 'duration', 'sample', 'trial_type', 'response_time', 'stim_file', 'value', 'HED']\n",
      "sub-035_run-01: ['onset', 'duration', 'sample', 'trial_type', 'response_time', 'stim_file', 'value', 'HED']\n",
      "sub-036_run-01: ['onset', 'duration', 'sample', 'trial_type', 'response_time', 'stim_file', 'value', 'HED']\n",
      "sub-036_run-02: ['onset', 'duration', 'sample', 'trial_type', 'response_time', 'stim_file', 'value', 'HED']\n",
      "sub-037_run-01: ['onset', 'duration', 'sample', 'trial_type', 'response_time', 'stim_file', 'value', 'HED']\n",
      "sub-038_run-01: ['onset', 'duration', 'sample', 'trial_type', 'response_time', 'stim_file', 'value', 'HED']\n",
      "sub-039_run-01: ['onset', 'duration', 'sample', 'trial_type', 'response_time', 'stim_file', 'value', 'HED']\n",
      "sub-040_run-01: ['onset', 'duration', 'sample', 'trial_type', 'response_time', 'stim_file', 'value', 'HED']\n",
      "sub-041_run-01: ['onset', 'duration', 'sample', 'trial_type', 'response_time', 'stim_file', 'value', 'HED']\n",
      "sub-042_run-01: ['onset', 'duration', 'sample', 'trial_type', 'response_time', 'stim_file', 'value', 'HED']\n",
      "sub-043_run-01: ['onset', 'duration', 'sample', 'trial_type', 'response_time', 'stim_file', 'value', 'HED']\n",
      "sub-044_run-01: ['onset', 'duration', 'sample', 'trial_type', 'response_time', 'stim_file', 'value', 'HED']\n",
      "sub-045_run-01: ['onset', 'duration', 'sample', 'trial_type', 'response_time', 'stim_file', 'value', 'HED']\n",
      "sub-046_run-01: ['onset', 'duration', 'sample', 'trial_type', 'response_time', 'stim_file', 'value', 'HED']\n",
      "sub-047_run-01: ['onset', 'duration', 'sample', 'trial_type', 'response_time', 'stim_file', 'value', 'HED']\n",
      "sub-048_run-01: ['onset', 'duration', 'sample', 'trial_type', 'response_time', 'stim_file', 'value', 'HED']\n",
      "sub-049_run-01: ['onset', 'duration', 'sample', 'trial_type', 'response_time', 'stim_file', 'value', 'HED']\n"
     ]
    }
   ],
   "source": [
    "import os\n",
    "from hed.tools import get_new_dataframe\n",
    "\n",
    "bids_file_dict = {}\n",
    "print(\"\\nBIDS form of the events:\")\n",
    "for file in event_files_bids:\n",
    "    base = os.path.basename(file)\n",
    "    pieces = base.split('_')\n",
    "    key = f\"{pieces[0]}_{pieces[-2]}\"\n",
    "    df = get_new_dataframe(file)\n",
    "    bids_file_dict[key] = file\n",
    "    print(f\"{key}: {str(list(df.columns.values))}\")"
   ],
   "metadata": {
    "collapsed": false,
    "pycharm": {
     "name": "#%% Verify the column names for the BIDS files\n"
    }
   }
  },
  {
   "cell_type": "code",
   "execution_count": 3,
   "outputs": [
    {
     "name": "stdout",
     "output_type": "stream",
     "text": [
      "\n",
      "EEG form of the events:\n",
      "sub-001_run-01: ['sample_offset', 'event_code', 'cond_code', 'type', 'latency', 'urevent', 'usertags']\n",
      "sub-002_run-01: ['sample_offset', 'event_code', 'cond_code', 'type', 'latency', 'urevent', 'usertags']\n",
      "sub-003_run-01: ['sample_offset', 'event_code', 'cond_code', 'type', 'latency', 'urevent', 'usertags']\n",
      "sub-004_run-01: ['sample_offset', 'event_code', 'cond_code', 'type', 'latency', 'urevent', 'usertags']\n",
      "sub-004_run-02: ['sample_offset', 'event_code', 'cond_code', 'type', 'latency', 'urevent', 'usertags']\n",
      "sub-005_run-01: ['sample_offset', 'event_code', 'cond_code', 'type', 'latency', 'urevent', 'usertags']\n",
      "sub-006_run-01: ['sample_offset', 'event_code', 'cond_code', 'type', 'latency', 'urevent', 'usertags']\n",
      "sub-007_run-01: ['sample_offset', 'event_code', 'cond_code', 'type', 'latency', 'urevent', 'usertags']\n",
      "sub-008_run-01: ['sample_offset', 'event_code', 'cond_code', 'type', 'latency', 'urevent', 'usertags']\n",
      "sub-009_run-01: ['sample_offset', 'event_code', 'cond_code', 'type', 'latency', 'urevent', 'usertags']\n",
      "sub-010_run-01: ['sample_offset', 'event_code', 'cond_code', 'type', 'latency', 'urevent', 'usertags']\n",
      "sub-011_run-01: ['sample_offset', 'event_code', 'cond_code', 'type', 'latency', 'urevent', 'usertags']\n",
      "sub-012_run-01: ['sample_offset', 'event_code', 'cond_code', 'type', 'latency', 'urevent', 'usertags']\n",
      "sub-013_run-01: ['sample_offset', 'event_code', 'cond_code', 'type', 'latency', 'urevent', 'usertags']\n",
      "sub-014_run-01: ['sample_offset', 'event_code', 'cond_code', 'type', 'latency', 'urevent', 'usertags']\n",
      "sub-015_run-01: ['sample_offset', 'event_code', 'cond_code', 'type', 'latency', 'urevent', 'usertags']\n",
      "sub-016_run-01: ['sample_offset', 'event_code', 'cond_code', 'type', 'latency', 'urevent', 'usertags']\n",
      "sub-017_run-01: ['sample_offset', 'event_code', 'cond_code', 'type', 'latency', 'urevent', 'usertags']\n",
      "sub-018_run-01: ['sample_offset', 'event_code', 'cond_code', 'type', 'latency', 'urevent', 'usertags']\n",
      "sub-019_run-01: ['sample_offset', 'event_code', 'cond_code', 'type', 'latency', 'urevent', 'usertags']\n",
      "sub-020_run-01: ['sample_offset', 'event_code', 'cond_code', 'type', 'latency', 'urevent', 'usertags']\n",
      "sub-021_run-01: ['sample_offset', 'event_code', 'cond_code', 'type', 'latency', 'urevent', 'usertags']\n",
      "sub-021_run-02: ['sample_offset', 'event_code', 'cond_code', 'type', 'latency', 'urevent', 'usertags']\n",
      "sub-022_run-01: ['sample_offset', 'event_code', 'cond_code', 'type', 'latency', 'urevent', 'usertags']\n",
      "sub-022_run-02: ['sample_offset', 'event_code', 'cond_code', 'type', 'latency', 'urevent', 'usertags']\n",
      "sub-023_run-01: ['sample_offset', 'event_code', 'cond_code', 'type', 'latency', 'urevent', 'usertags']\n",
      "sub-024_run-01: ['sample_offset', 'event_code', 'cond_code', 'type', 'latency', 'urevent', 'usertags']\n",
      "sub-025_run-01: ['sample_offset', 'event_code', 'cond_code', 'type', 'latency', 'urevent', 'usertags']\n",
      "sub-026_run-01: ['sample_offset', 'event_code', 'cond_code', 'type', 'latency', 'urevent', 'usertags']\n",
      "sub-027_run-01: ['sample_offset', 'event_code', 'cond_code', 'type', 'latency', 'urevent', 'usertags']\n",
      "sub-028_run-01: ['sample_offset', 'event_code', 'cond_code', 'type', 'latency', 'urevent', 'usertags']\n",
      "sub-028_run-02: ['sample_offset', 'event_code', 'cond_code', 'type', 'latency', 'urevent', 'usertags']\n",
      "sub-029_run-01: ['sample_offset', 'event_code', 'cond_code', 'type', 'latency', 'urevent', 'usertags']\n",
      "sub-030_run-01: ['sample_offset', 'event_code', 'cond_code', 'type', 'latency', 'urevent', 'usertags']\n",
      "sub-031_run-01: ['sample_offset', 'event_code', 'cond_code', 'type', 'latency', 'urevent', 'usertags']\n",
      "sub-032_run-01: ['sample_offset', 'event_code', 'cond_code', 'type', 'latency', 'urevent', 'usertags']\n",
      "sub-033_run-01: ['sample_offset', 'event_code', 'cond_code', 'type', 'latency', 'urevent', 'usertags']\n",
      "sub-034_run-01: ['sample_offset', 'event_code', 'cond_code', 'type', 'latency', 'urevent', 'usertags']\n",
      "sub-035_run-01: ['sample_offset', 'event_code', 'cond_code', 'type', 'latency', 'urevent', 'usertags']\n",
      "sub-036_run-01: ['sample_offset', 'event_code', 'cond_code', 'type', 'latency', 'urevent', 'usertags']\n",
      "sub-036_run-02: ['sample_offset', 'event_code', 'cond_code', 'type', 'latency', 'urevent', 'usertags']\n",
      "sub-037_run-01: ['sample_offset', 'event_code', 'cond_code', 'type', 'latency', 'urevent', 'usertags']\n",
      "sub-038_run-01: ['sample_offset', 'event_code', 'cond_code', 'type', 'latency', 'urevent', 'usertags']\n",
      "sub-039_run-01: ['sample_offset', 'event_code', 'cond_code', 'type', 'latency', 'urevent', 'usertags']\n",
      "sub-040_run-01: ['sample_offset', 'event_code', 'cond_code', 'type', 'latency', 'urevent', 'usertags']\n",
      "sub-041_run-01: ['sample_offset', 'event_code', 'cond_code', 'type', 'latency', 'urevent', 'usertags']\n",
      "sub-042_run-01: ['sample_offset', 'event_code', 'cond_code', 'type', 'latency', 'urevent', 'usertags']\n",
      "sub-043_run-01: ['sample_offset', 'event_code', 'cond_code', 'type', 'latency', 'urevent', 'usertags']\n",
      "sub-044_run-01: ['sample_offset', 'event_code', 'cond_code', 'type', 'latency', 'urevent', 'usertags']\n",
      "sub-045_run-01: ['sample_offset', 'event_code', 'cond_code', 'type', 'latency', 'urevent', 'usertags']\n",
      "sub-046_run-01: ['sample_offset', 'event_code', 'cond_code', 'type', 'latency', 'urevent', 'usertags']\n",
      "sub-047_run-01: ['sample_offset', 'event_code', 'cond_code', 'type', 'latency', 'urevent', 'usertags']\n",
      "sub-048_run-01: ['sample_offset', 'event_code', 'cond_code', 'type', 'latency', 'urevent', 'usertags']\n",
      "sub-049_run-01: ['sample_offset', 'event_code', 'cond_code', 'type', 'latency', 'urevent', 'usertags']\n"
     ]
    }
   ],
   "source": [
    "eeg_file_dict = {}\n",
    "print(\"\\nEEG form of the events:\")\n",
    "for file in event_files_eeg:\n",
    "    base = os.path.basename(file)\n",
    "    pieces = base.split('_')\n",
    "    key = f\"{pieces[0]}_{pieces[-3]}\"\n",
    "    df = get_new_dataframe(file)\n",
    "    eeg_file_dict[key] = file\n",
    "    print(f\"{key}: {str(list(df.columns.values))}\")"
   ],
   "metadata": {
    "collapsed": false,
    "pycharm": {
     "name": "#%% Verify the column names for EEG event fields\n"
    }
   }
  },
  {
   "cell_type": "markdown",
   "source": [
    "### Preliminary restructuring\n",
    "\n",
    "1. Remove `HED`, `response_time` and `stim_file` columns from BIDS file.\n",
    "2. Add `cond_code` column from EEG events file.\n",
    "3. Add `event_code` column from EEG events file.\n"
   ],
   "metadata": {
    "collapsed": false,
    "pycharm": {
     "name": "#%% md\n"
    }
   }
  },
  {
   "cell_type": "code",
   "execution_count": 4,
   "outputs": [
    {
     "name": "stdout",
     "output_type": "stream",
     "text": [
      "\n",
      "BIDS form of the events: 54\n",
      "G:/AttentionShift/AttentionShiftExperiments\\sub-001\\eeg\\sub-001_task-AuditoryVisualShift_run-01_events.tsv\n",
      "G:/AttentionShift/AttentionShiftExperiments\\sub-001\\eeg\\sub-001_task-AuditoryVisualShift_run-01_events_temp2.tsv\n",
      "G:/AttentionShift/AttentionShiftExperiments\\sub-002\\eeg\\sub-002_task-AuditoryVisualShift_run-01_events.tsv\n",
      "G:/AttentionShift/AttentionShiftExperiments\\sub-002\\eeg\\sub-002_task-AuditoryVisualShift_run-01_events_temp2.tsv\n",
      "G:/AttentionShift/AttentionShiftExperiments\\sub-003\\eeg\\sub-003_task-AuditoryVisualShift_run-01_events.tsv\n",
      "G:/AttentionShift/AttentionShiftExperiments\\sub-003\\eeg\\sub-003_task-AuditoryVisualShift_run-01_events_temp2.tsv\n",
      "G:/AttentionShift/AttentionShiftExperiments\\sub-004\\eeg\\sub-004_task-AuditoryVisualShift_run-01_events.tsv\n",
      "G:/AttentionShift/AttentionShiftExperiments\\sub-004\\eeg\\sub-004_task-AuditoryVisualShift_run-01_events_temp2.tsv\n",
      "G:/AttentionShift/AttentionShiftExperiments\\sub-004\\eeg\\sub-004_task-AuditoryVisualShift_run-02_events.tsv\n",
      "G:/AttentionShift/AttentionShiftExperiments\\sub-004\\eeg\\sub-004_task-AuditoryVisualShift_run-02_events_temp2.tsv\n",
      "G:/AttentionShift/AttentionShiftExperiments\\sub-005\\eeg\\sub-005_task-AuditoryVisualShift_run-01_events.tsv\n",
      "G:/AttentionShift/AttentionShiftExperiments\\sub-005\\eeg\\sub-005_task-AuditoryVisualShift_run-01_events_temp2.tsv\n",
      "G:/AttentionShift/AttentionShiftExperiments\\sub-006\\eeg\\sub-006_task-AuditoryVisualShift_run-01_events.tsv\n",
      "G:/AttentionShift/AttentionShiftExperiments\\sub-006\\eeg\\sub-006_task-AuditoryVisualShift_run-01_events_temp2.tsv\n",
      "G:/AttentionShift/AttentionShiftExperiments\\sub-007\\eeg\\sub-007_task-AuditoryVisualShift_run-01_events.tsv\n",
      "G:/AttentionShift/AttentionShiftExperiments\\sub-007\\eeg\\sub-007_task-AuditoryVisualShift_run-01_events_temp2.tsv\n",
      "G:/AttentionShift/AttentionShiftExperiments\\sub-008\\eeg\\sub-008_task-AuditoryVisualShift_run-01_events.tsv\n",
      "G:/AttentionShift/AttentionShiftExperiments\\sub-008\\eeg\\sub-008_task-AuditoryVisualShift_run-01_events_temp2.tsv\n",
      "G:/AttentionShift/AttentionShiftExperiments\\sub-009\\eeg\\sub-009_task-AuditoryVisualShift_run-01_events.tsv\n",
      "G:/AttentionShift/AttentionShiftExperiments\\sub-009\\eeg\\sub-009_task-AuditoryVisualShift_run-01_events_temp2.tsv\n",
      "G:/AttentionShift/AttentionShiftExperiments\\sub-010\\eeg\\sub-010_task-AuditoryVisualShift_run-01_events.tsv\n",
      "G:/AttentionShift/AttentionShiftExperiments\\sub-010\\eeg\\sub-010_task-AuditoryVisualShift_run-01_events_temp2.tsv\n",
      "G:/AttentionShift/AttentionShiftExperiments\\sub-011\\eeg\\sub-011_task-AuditoryVisualShift_run-01_events.tsv\n",
      "G:/AttentionShift/AttentionShiftExperiments\\sub-011\\eeg\\sub-011_task-AuditoryVisualShift_run-01_events_temp2.tsv\n",
      "G:/AttentionShift/AttentionShiftExperiments\\sub-012\\eeg\\sub-012_task-AuditoryVisualShift_run-01_events.tsv\n",
      "G:/AttentionShift/AttentionShiftExperiments\\sub-012\\eeg\\sub-012_task-AuditoryVisualShift_run-01_events_temp2.tsv\n",
      "G:/AttentionShift/AttentionShiftExperiments\\sub-013\\eeg\\sub-013_task-AuditoryVisualShift_run-01_events.tsv\n",
      "G:/AttentionShift/AttentionShiftExperiments\\sub-013\\eeg\\sub-013_task-AuditoryVisualShift_run-01_events_temp2.tsv\n",
      "G:/AttentionShift/AttentionShiftExperiments\\sub-014\\eeg\\sub-014_task-AuditoryVisualShift_run-01_events.tsv\n",
      "G:/AttentionShift/AttentionShiftExperiments\\sub-014\\eeg\\sub-014_task-AuditoryVisualShift_run-01_events_temp2.tsv\n",
      "G:/AttentionShift/AttentionShiftExperiments\\sub-015\\eeg\\sub-015_task-AuditoryVisualShift_run-01_events.tsv\n",
      "G:/AttentionShift/AttentionShiftExperiments\\sub-015\\eeg\\sub-015_task-AuditoryVisualShift_run-01_events_temp2.tsv\n",
      "G:/AttentionShift/AttentionShiftExperiments\\sub-016\\eeg\\sub-016_task-AuditoryVisualShift_run-01_events.tsv\n",
      "G:/AttentionShift/AttentionShiftExperiments\\sub-016\\eeg\\sub-016_task-AuditoryVisualShift_run-01_events_temp2.tsv\n",
      "G:/AttentionShift/AttentionShiftExperiments\\sub-017\\eeg\\sub-017_task-AuditoryVisualShift_run-01_events.tsv\n",
      "G:/AttentionShift/AttentionShiftExperiments\\sub-017\\eeg\\sub-017_task-AuditoryVisualShift_run-01_events_temp2.tsv\n",
      "G:/AttentionShift/AttentionShiftExperiments\\sub-018\\eeg\\sub-018_task-AuditoryVisualShift_run-01_events.tsv\n",
      "G:/AttentionShift/AttentionShiftExperiments\\sub-018\\eeg\\sub-018_task-AuditoryVisualShift_run-01_events_temp2.tsv\n",
      "G:/AttentionShift/AttentionShiftExperiments\\sub-019\\eeg\\sub-019_task-AuditoryVisualShift_run-01_events.tsv\n",
      "G:/AttentionShift/AttentionShiftExperiments\\sub-019\\eeg\\sub-019_task-AuditoryVisualShift_run-01_events_temp2.tsv\n",
      "G:/AttentionShift/AttentionShiftExperiments\\sub-020\\eeg\\sub-020_task-AuditoryVisualShift_run-01_events.tsv\n",
      "G:/AttentionShift/AttentionShiftExperiments\\sub-020\\eeg\\sub-020_task-AuditoryVisualShift_run-01_events_temp2.tsv\n",
      "G:/AttentionShift/AttentionShiftExperiments\\sub-021\\eeg\\sub-021_task-AuditoryVisualShift_run-01_events.tsv\n",
      "G:/AttentionShift/AttentionShiftExperiments\\sub-021\\eeg\\sub-021_task-AuditoryVisualShift_run-01_events_temp2.tsv\n",
      "G:/AttentionShift/AttentionShiftExperiments\\sub-021\\eeg\\sub-021_task-AuditoryVisualShift_run-02_events.tsv\n",
      "G:/AttentionShift/AttentionShiftExperiments\\sub-021\\eeg\\sub-021_task-AuditoryVisualShift_run-02_events_temp2.tsv\n",
      "G:/AttentionShift/AttentionShiftExperiments\\sub-022\\eeg\\sub-022_task-AuditoryVisualShift_run-01_events.tsv\n",
      "G:/AttentionShift/AttentionShiftExperiments\\sub-022\\eeg\\sub-022_task-AuditoryVisualShift_run-01_events_temp2.tsv\n",
      "G:/AttentionShift/AttentionShiftExperiments\\sub-022\\eeg\\sub-022_task-AuditoryVisualShift_run-02_events.tsv\n",
      "G:/AttentionShift/AttentionShiftExperiments\\sub-022\\eeg\\sub-022_task-AuditoryVisualShift_run-02_events_temp2.tsv\n",
      "G:/AttentionShift/AttentionShiftExperiments\\sub-023\\eeg\\sub-023_task-AuditoryVisualShift_run-01_events.tsv\n",
      "G:/AttentionShift/AttentionShiftExperiments\\sub-023\\eeg\\sub-023_task-AuditoryVisualShift_run-01_events_temp2.tsv\n",
      "G:/AttentionShift/AttentionShiftExperiments\\sub-024\\eeg\\sub-024_task-AuditoryVisualShift_run-01_events.tsv\n",
      "G:/AttentionShift/AttentionShiftExperiments\\sub-024\\eeg\\sub-024_task-AuditoryVisualShift_run-01_events_temp2.tsv\n",
      "G:/AttentionShift/AttentionShiftExperiments\\sub-025\\eeg\\sub-025_task-AuditoryVisualShift_run-01_events.tsv\n",
      "G:/AttentionShift/AttentionShiftExperiments\\sub-025\\eeg\\sub-025_task-AuditoryVisualShift_run-01_events_temp2.tsv\n",
      "G:/AttentionShift/AttentionShiftExperiments\\sub-026\\eeg\\sub-026_task-AuditoryVisualShift_run-01_events.tsv\n",
      "G:/AttentionShift/AttentionShiftExperiments\\sub-026\\eeg\\sub-026_task-AuditoryVisualShift_run-01_events_temp2.tsv\n",
      "G:/AttentionShift/AttentionShiftExperiments\\sub-027\\eeg\\sub-027_task-AuditoryVisualShift_run-01_events.tsv\n",
      "G:/AttentionShift/AttentionShiftExperiments\\sub-027\\eeg\\sub-027_task-AuditoryVisualShift_run-01_events_temp2.tsv\n",
      "G:/AttentionShift/AttentionShiftExperiments\\sub-028\\eeg\\sub-028_task-AuditoryVisualShift_run-01_events.tsv\n",
      "G:/AttentionShift/AttentionShiftExperiments\\sub-028\\eeg\\sub-028_task-AuditoryVisualShift_run-01_events_temp2.tsv\n",
      "G:/AttentionShift/AttentionShiftExperiments\\sub-028\\eeg\\sub-028_task-AuditoryVisualShift_run-02_events.tsv\n",
      "G:/AttentionShift/AttentionShiftExperiments\\sub-028\\eeg\\sub-028_task-AuditoryVisualShift_run-02_events_temp2.tsv\n",
      "G:/AttentionShift/AttentionShiftExperiments\\sub-029\\eeg\\sub-029_task-AuditoryVisualShift_run-01_events.tsv\n",
      "G:/AttentionShift/AttentionShiftExperiments\\sub-029\\eeg\\sub-029_task-AuditoryVisualShift_run-01_events_temp2.tsv\n",
      "G:/AttentionShift/AttentionShiftExperiments\\sub-030\\eeg\\sub-030_task-AuditoryVisualShift_run-01_events.tsv\n",
      "G:/AttentionShift/AttentionShiftExperiments\\sub-030\\eeg\\sub-030_task-AuditoryVisualShift_run-01_events_temp2.tsv\n",
      "G:/AttentionShift/AttentionShiftExperiments\\sub-031\\eeg\\sub-031_task-AuditoryVisualShift_run-01_events.tsv\n",
      "G:/AttentionShift/AttentionShiftExperiments\\sub-031\\eeg\\sub-031_task-AuditoryVisualShift_run-01_events_temp2.tsv\n",
      "G:/AttentionShift/AttentionShiftExperiments\\sub-032\\eeg\\sub-032_task-AuditoryVisualShift_run-01_events.tsv\n",
      "G:/AttentionShift/AttentionShiftExperiments\\sub-032\\eeg\\sub-032_task-AuditoryVisualShift_run-01_events_temp2.tsv\n",
      "G:/AttentionShift/AttentionShiftExperiments\\sub-033\\eeg\\sub-033_task-AuditoryVisualShift_run-01_events.tsv\n",
      "G:/AttentionShift/AttentionShiftExperiments\\sub-033\\eeg\\sub-033_task-AuditoryVisualShift_run-01_events_temp2.tsv\n",
      "G:/AttentionShift/AttentionShiftExperiments\\sub-034\\eeg\\sub-034_task-AuditoryVisualShift_run-01_events.tsv\n",
      "G:/AttentionShift/AttentionShiftExperiments\\sub-034\\eeg\\sub-034_task-AuditoryVisualShift_run-01_events_temp2.tsv\n",
      "G:/AttentionShift/AttentionShiftExperiments\\sub-035\\eeg\\sub-035_task-AuditoryVisualShift_run-01_events.tsv\n",
      "G:/AttentionShift/AttentionShiftExperiments\\sub-035\\eeg\\sub-035_task-AuditoryVisualShift_run-01_events_temp2.tsv\n",
      "G:/AttentionShift/AttentionShiftExperiments\\sub-036\\eeg\\sub-036_task-AuditoryVisualShift_run-01_events.tsv\n",
      "G:/AttentionShift/AttentionShiftExperiments\\sub-036\\eeg\\sub-036_task-AuditoryVisualShift_run-01_events_temp2.tsv\n",
      "G:/AttentionShift/AttentionShiftExperiments\\sub-036\\eeg\\sub-036_task-AuditoryVisualShift_run-02_events.tsv\n",
      "G:/AttentionShift/AttentionShiftExperiments\\sub-036\\eeg\\sub-036_task-AuditoryVisualShift_run-02_events_temp2.tsv\n",
      "G:/AttentionShift/AttentionShiftExperiments\\sub-037\\eeg\\sub-037_task-AuditoryVisualShift_run-01_events.tsv\n",
      "G:/AttentionShift/AttentionShiftExperiments\\sub-037\\eeg\\sub-037_task-AuditoryVisualShift_run-01_events_temp2.tsv\n",
      "G:/AttentionShift/AttentionShiftExperiments\\sub-038\\eeg\\sub-038_task-AuditoryVisualShift_run-01_events.tsv\n",
      "G:/AttentionShift/AttentionShiftExperiments\\sub-038\\eeg\\sub-038_task-AuditoryVisualShift_run-01_events_temp2.tsv\n",
      "G:/AttentionShift/AttentionShiftExperiments\\sub-039\\eeg\\sub-039_task-AuditoryVisualShift_run-01_events.tsv\n",
      "G:/AttentionShift/AttentionShiftExperiments\\sub-039\\eeg\\sub-039_task-AuditoryVisualShift_run-01_events_temp2.tsv\n",
      "G:/AttentionShift/AttentionShiftExperiments\\sub-040\\eeg\\sub-040_task-AuditoryVisualShift_run-01_events.tsv\n",
      "G:/AttentionShift/AttentionShiftExperiments\\sub-040\\eeg\\sub-040_task-AuditoryVisualShift_run-01_events_temp2.tsv\n",
      "G:/AttentionShift/AttentionShiftExperiments\\sub-041\\eeg\\sub-041_task-AuditoryVisualShift_run-01_events.tsv\n",
      "G:/AttentionShift/AttentionShiftExperiments\\sub-041\\eeg\\sub-041_task-AuditoryVisualShift_run-01_events_temp2.tsv\n",
      "G:/AttentionShift/AttentionShiftExperiments\\sub-042\\eeg\\sub-042_task-AuditoryVisualShift_run-01_events.tsv\n",
      "G:/AttentionShift/AttentionShiftExperiments\\sub-042\\eeg\\sub-042_task-AuditoryVisualShift_run-01_events_temp2.tsv\n",
      "G:/AttentionShift/AttentionShiftExperiments\\sub-043\\eeg\\sub-043_task-AuditoryVisualShift_run-01_events.tsv\n",
      "G:/AttentionShift/AttentionShiftExperiments\\sub-043\\eeg\\sub-043_task-AuditoryVisualShift_run-01_events_temp2.tsv\n",
      "G:/AttentionShift/AttentionShiftExperiments\\sub-044\\eeg\\sub-044_task-AuditoryVisualShift_run-01_events.tsv\n",
      "G:/AttentionShift/AttentionShiftExperiments\\sub-044\\eeg\\sub-044_task-AuditoryVisualShift_run-01_events_temp2.tsv\n",
      "G:/AttentionShift/AttentionShiftExperiments\\sub-045\\eeg\\sub-045_task-AuditoryVisualShift_run-01_events.tsv\n",
      "G:/AttentionShift/AttentionShiftExperiments\\sub-045\\eeg\\sub-045_task-AuditoryVisualShift_run-01_events_temp2.tsv\n",
      "G:/AttentionShift/AttentionShiftExperiments\\sub-046\\eeg\\sub-046_task-AuditoryVisualShift_run-01_events.tsv\n",
      "G:/AttentionShift/AttentionShiftExperiments\\sub-046\\eeg\\sub-046_task-AuditoryVisualShift_run-01_events_temp2.tsv\n",
      "G:/AttentionShift/AttentionShiftExperiments\\sub-047\\eeg\\sub-047_task-AuditoryVisualShift_run-01_events.tsv\n",
      "G:/AttentionShift/AttentionShiftExperiments\\sub-047\\eeg\\sub-047_task-AuditoryVisualShift_run-01_events_temp2.tsv\n",
      "G:/AttentionShift/AttentionShiftExperiments\\sub-048\\eeg\\sub-048_task-AuditoryVisualShift_run-01_events.tsv\n",
      "G:/AttentionShift/AttentionShiftExperiments\\sub-048\\eeg\\sub-048_task-AuditoryVisualShift_run-01_events_temp2.tsv\n",
      "G:/AttentionShift/AttentionShiftExperiments\\sub-049\\eeg\\sub-049_task-AuditoryVisualShift_run-01_events.tsv\n",
      "G:/AttentionShift/AttentionShiftExperiments\\sub-049\\eeg\\sub-049_task-AuditoryVisualShift_run-01_events_temp2.tsv\n"
     ]
    }
   ],
   "source": [
    "print(f\"\\nBIDS form of the events: {len(event_files_bids)}\")\n",
    "for file in event_files_bids:\n",
    "    print(file)\n",
    "    df_bids = get_new_dataframe(file)\n",
    "    df_bids.drop('HED', axis=1, inplace=True)\n",
    "    df_bids.drop('response_time', axis=1, inplace=True)\n",
    "    df_bids.drop('stim_file', axis=1, inplace=True)\n",
    "\n",
    "    base = os.path.basename(file)\n",
    "    pieces = base.split('_')\n",
    "    key = f\"{pieces[0]}_{pieces[-2]}\"\n",
    "    df_eeg = get_new_dataframe(eeg_file_dict[key])\n",
    "    df_bids['event_code'] = df_eeg['event_code'].astype(str)\n",
    "    df_bids['cond_code'] = df_eeg['cond_code'].astype(str)\n",
    "    filename = file[:-4] + \"_temp2.tsv\"\n",
    "    print(filename)\n",
    "    df_bids.to_csv(filename, sep='\\t', index=False)"
   ],
   "metadata": {
    "collapsed": false,
    "pycharm": {
     "name": "#%%\n"
    }
   }
  }
 ],
 "metadata": {
  "kernelspec": {
   "display_name": "Python 3",
   "language": "python",
   "name": "python3"
  },
  "language_info": {
   "codemirror_mode": {
    "name": "ipython",
    "version": 2
   },
   "file_extension": ".py",
   "mimetype": "text/x-python",
   "name": "python",
   "nbconvert_exporter": "python",
   "pygments_lexer": "ipython2",
   "version": "2.7.6"
  }
 },
 "nbformat": 4,
 "nbformat_minor": 0
}