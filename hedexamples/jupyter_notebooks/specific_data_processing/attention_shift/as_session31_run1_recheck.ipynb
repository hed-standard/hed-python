{
 "cells": [
  {
   "cell_type": "markdown",
   "metadata": {
    "collapsed": true,
    "pycharm": {
     "name": "#%% md\n"
    }
   },
   "source": [
    "## Session 1 run 1 recheck\n",
    "\n",
    "This script checks to make sure that the hand-edited corrections of the `trial_type`\n",
    "agree and have been corrected.\n"
   ]
  },
  {
   "cell_type": "code",
   "source": [
    "from hed.tools import get_new_dataframe\n",
    "file = 'G:/AttentionShift/sub-031_run-01_kay_dung_compare.tsv'\n",
    "df = get_new_dataframe(file)"
   ],
   "metadata": {
    "collapsed": false,
    "pycharm": {
     "name": "#%% Read the spreadsheet with comparisons\n"
    }
   },
   "execution_count": 1,
   "outputs": []
  },
  {
   "cell_type": "markdown",
   "source": [
    "### Check EEG relationships\n",
    "\n",
    "1. `cond_code` == `trial_type`\n",
    "\n",
    "2. `event_code` == `value`"
   ],
   "metadata": {
    "collapsed": false,
    "pycharm": {
     "name": "#%% md\n"
    }
   }
  },
  {
   "cell_type": "code",
   "execution_count": 2,
   "outputs": [
    {
     "name": "stdout",
     "output_type": "stream",
     "text": [
      "G:/AttentionShift/sub-031_run-01_kay_dung_compare.tsv: has 0 cond_code disagreements\n",
      "G:/AttentionShift/sub-031_run-01_kay_dung_compare.tsv: has 0 code_check disagreements\n"
     ]
    }
   ],
   "source": [
    "cond_check = df['cond_code'].map(str) != df['trial_type'].map(str)\n",
    "print(f\"{file}: has {sum(cond_check)} cond_code disagreements\")\n",
    "for index, value in cond_check.iteritems():\n",
    "    if value:\n",
    "        row = df.loc[index]\n",
    "        print(\n",
    "            f\"Index {index}: cond_code:{row['cond_code']} trial_type:{row['trial_type']}\")\n",
    "\n",
    "code_check = df['event_code'].map(str) != df['value'].map(str)\n",
    "print(f\"{file}: has {sum(code_check)} code_check disagreements\")\n",
    "for index, value in code_check.iteritems():\n",
    "    if value:\n",
    "        row = df.loc[index]\n",
    "        print(f\"Index {index}: event_code:{row['value']} trial_type:{row['tiral_type']}\")"
   ],
   "metadata": {
    "collapsed": false,
    "pycharm": {
     "name": "#%% Check the conditions\n"
    }
   }
  }
 ],
 "metadata": {
  "kernelspec": {
   "display_name": "Python 3",
   "language": "python",
   "name": "python3"
  },
  "language_info": {
   "codemirror_mode": {
    "name": "ipython",
    "version": 2
   },
   "file_extension": ".py",
   "mimetype": "text/x-python",
   "name": "python",
   "nbconvert_exporter": "python",
   "pygments_lexer": "ipython2",
   "version": "2.7.6"
  }
 },
 "nbformat": 4,
 "nbformat_minor": 0
}