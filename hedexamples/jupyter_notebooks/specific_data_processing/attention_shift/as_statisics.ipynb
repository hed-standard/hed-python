{
 "cells": [
  {
   "cell_type": "markdown",
   "metadata": {
    "collapsed": true,
    "pycharm": {
     "name": "#%% md\n"
    }
   },
   "source": [
    "## Statistics of the event distribution\n",
    "\n",
    "This script looks at the distribution of event codes in the Attention Shift dataset.\n"
   ]
  },
  {
   "cell_type": "markdown",
   "source": [
    "### Set up the file paths\n",
    "\n",
    "This script assumes that the data is in BIDS format and that each BIDS events\n",
    "file of the form `_events.tsv` has a corresponding events file with\n",
    "suffix `_events_temp.tsv` that was previously dumped from the `EEG.set` files."
   ],
   "metadata": {
    "collapsed": false
   }
  },
  {
   "cell_type": "code",
   "execution_count": null,
   "outputs": [],
   "source": [
    "import os\n",
    "from hed.tools import get_new_dataframe\n",
    "from hed.tools import get_file_list\n",
    "bids_root_path = 'G:/AttentionShift/AttentionShiftExperiments'\n",
    "event_files = get_file_list(bids_root_path, types=[\".tsv\"], suffix=\"_events_temp2\")\n",
    "file_dict = {}\n",
    "for file in event_files:\n",
    "    base = os.path.basename(file)\n",
    "    pieces = base.split('_')\n",
    "    key = f\"{pieces[0]}_{pieces[-2]}\"\n",
    "    df = get_new_dataframe(file)\n",
    "    file_dict[key] = file"
   ],
   "metadata": {
    "collapsed": false,
    "pycharm": {
     "name": "#%% Make a dictionary of event file names\n"
    }
   }
  },
  {
   "cell_type": "markdown",
   "source": [
    "## Create summary dictionaries\n",
    "\n",
    "The next two sections create summary dictionaries"
   ],
   "metadata": {
    "collapsed": false,
    "pycharm": {
     "name": "#%% md\n"
    }
   }
  },
  {
   "cell_type": "code",
   "execution_count": null,
   "outputs": [],
   "source": [
    "# def count_seq():\n",
    "\n"
   ],
   "metadata": {
    "collapsed": false,
    "pycharm": {
     "name": "#%% Create summary dictionaries of the original BIDS events files\n"
    }
   }
  },
  {
   "cell_type": "code",
   "execution_count": null,
   "outputs": [],
   "source": [
    "for key, file in file_dict.items():\n",
    "\n",
    "    print(f\"{key}: {file}\")\n",
    "    df = get_new_dataframe(file)\n",
    "    col_names = df.\n",
    "    df.drop(['sample_offset', 'latency', 'urevent', 'usertags'], axis=1, inplace=True)\n",
    "    df_eeg['new_col'] = df_eeg['cond_code'].map(str) + df_eeg['event_code'].map(str)\n",
    "    code_255_col = df_eeg['event_code'].map(str) == '255'\n",
    "    trial_col = df_eeg['cond_code'].map(str) != '0'\n",
    "    pause_col = df_eeg['event_code'].map(str) != '202'\n",
    "    type_col = df_eeg['type'].map(str) != '202'\n",
    "    comp_col = df_eeg['new_col'].map(str) != df_eeg[\"type\"].map(str)\n",
    "    x = comp_col & trial_col & pause_col\n",
    "    y = (type_col & ~pause_col) | (~type_col & pause_col)\n",
    "    print(f\"{key}: has {sum(x)} event_code and {sum(y)} 202 type disagreements :\")\n",
    "    for index, value in x.iteritems():\n",
    "        if value:\n",
    "            row = df_eeg.loc[index]\n",
    "            print(f\"Key {key} index {index}: event_code:{row['event_code']} type:{row['type']} cond_code:{row['cond_code']}\")\n",
    "\n",
    "    for index, value in y.iteritems():\n",
    "        if value:\n",
    "            row = df_eeg.loc[index]\n",
    "            print(f\"Key {key} index {index}: event_code:{row['event_code']} type:{row['type']}\")\n",
    "\n",
    "    for index, value in code_255_col.iteritems():\n",
    "        if value:\n",
    "            row = df_eeg.loc[index]\n",
    "            print(f\"Key {key} index {index}: event_code:{row['event_code']} type:{row['type']}\")"
   ],
   "metadata": {
    "collapsed": false,
    "pycharm": {
     "name": "#%% Check that trial_type\n"
    }
   }
  },
  {
   "cell_type": "markdown",
   "source": [
    "### Verify event codes agree with headIT\n",
    "They do except for code 255."
   ],
   "metadata": {
    "collapsed": false
   }
  },
  {
   "cell_type": "markdown",
   "source": [
    "Find out which files have a cond_code of 0"
   ],
   "metadata": {
    "collapsed": false,
    "pycharm": {
     "name": "#%% md\n"
    }
   }
  },
  {
   "cell_type": "code",
   "execution_count": null,
   "outputs": [],
   "source": [
    "# for key, file in eeg_file_dict.items():\n",
    "#     df_eeg = get_new_dataframe(file)\n",
    "#     trial_col = df_eeg['cond_code'].map(str) == '0'\n",
    "#     num_zeros = sum(trial_col)\n",
    "#     if num_zeros:\n",
    "#         print(f\"{key}: has {sum(trial_col)} cond_code value 0\")"
   ],
   "metadata": {
    "collapsed": false,
    "pycharm": {
     "name": "#%%\n"
    }
   }
  },
  {
   "cell_type": "markdown",
   "source": [
    "#### Find unique key column combinations\n",
    "\n",
    "Use the `KeyTemplate` class to find the unique value combinations\n",
    "of `cond_code` and `event_code` are properly used.\n",
    "\n",
    "Note:  Codes 1 through 6 should be in nonshifted\n",
    "       Codes 7 through 14 should be in shift condition\n",
    "       Codes 199, 201, 202, and 255 are not related to condition.\n",
    "\n"
   ],
   "metadata": {
    "collapsed": false,
    "pycharm": {
     "name": "#%% md\n"
    }
   }
  },
  {
   "cell_type": "code",
   "execution_count": null,
   "outputs": [],
   "source": [
    "# from hed.tools import KeyTemplate\n",
    "# key_columns = ['cond_code', 'event_code']\n",
    "# template = KeyTemplate(key_columns)\n",
    "# for file in event_files_eeg:\n",
    "#     template.update(file)\n",
    "# template.resort()\n",
    "# template.print()"
   ],
   "metadata": {
    "collapsed": false,
    "pycharm": {
     "name": "#%% Use KeyTemplate to get the counts for each unique combination of key columns.\n"
    }
   }
  }
 ],
 "metadata": {
  "kernelspec": {
   "display_name": "Python 3",
   "language": "python",
   "name": "python3"
  },
  "language_info": {
   "codemirror_mode": {
    "name": "ipython",
    "version": 2
   },
   "file_extension": ".py",
   "mimetype": "text/x-python",
   "name": "python",
   "nbconvert_exporter": "python",
   "pygments_lexer": "ipython2",
   "version": "2.7.6"
  }
 },
 "nbformat": 4,
 "nbformat_minor": 0
}