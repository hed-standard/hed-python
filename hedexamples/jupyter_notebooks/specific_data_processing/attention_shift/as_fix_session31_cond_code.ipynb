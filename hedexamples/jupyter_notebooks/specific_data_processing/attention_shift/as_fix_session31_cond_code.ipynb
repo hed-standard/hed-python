{
 "cells": [
  {
   "cell_type": "markdown",
   "metadata": {
    "collapsed": true,
    "pycharm": {
     "name": "#%% md\n"
    }
   },
   "source": [
    "## Fix to session 31 run 1\n",
    "\n",
    "This script fixes the 0 condition codes in session 31 run 1."
   ]
  },
  {
   "cell_type": "code",
   "execution_count": 1,
   "outputs": [
    {
     "name": "stdout",
     "output_type": "stream",
     "text": [
      "G:/AttentionShift/AttentionShiftExperiments/sub-031/eeg/sub-031_task-AuditoryVisualShift_run-01_events_temp2.tsv\n"
     ]
    }
   ],
   "source": [
    "from hed.tools import get_new_dataframe\n",
    "\n",
    "file = 'G:/AttentionShift/AttentionShiftExperiments/sub-031/eeg/sub-031_task-AuditoryVisualShift_run-01_events_temp2.tsv'\n",
    "df = get_new_dataframe(file)\n",
    "\n",
    "df.loc[df.index[0:344], 'cond_code'] = '1'\n",
    "df.loc[df.index[344:635], 'cond_code'] = '2'\n",
    "df.loc[df.index[635:4314], 'cond_code'] = '3'\n",
    "df.loc[df.index[4314:4601], 'cond_code'] = '1'\n",
    "df.loc[df.index[4601:4900], 'cond_code'] = '1'\n",
    "df.loc[df.index[4900:5196], 'cond_code'] = '1'\n",
    "df.loc[df.index[5196:5485], 'cond_code'] = '2'\n",
    "df.loc[df.index[5485:5777], 'cond_code'] = '2'\n",
    "df.loc[df.index[5777:], 'cond_code'] = '2'\n",
    "\n",
    "print(file)\n",
    "df.to_csv(file, sep='\\t', index=False)\n"
   ],
   "metadata": {
    "collapsed": false,
    "pycharm": {
     "name": "#%% Read the dataframe\n"
    }
   }
  }
 ],
 "metadata": {
  "kernelspec": {
   "display_name": "Python 3",
   "language": "python",
   "name": "python3"
  },
  "language_info": {
   "codemirror_mode": {
    "name": "ipython",
    "version": 2
   },
   "file_extension": ".py",
   "mimetype": "text/x-python",
   "name": "python",
   "nbconvert_exporter": "python",
   "pygments_lexer": "ipython2",
   "version": "2.7.6"
  }
 },
 "nbformat": 4,
 "nbformat_minor": 0
}