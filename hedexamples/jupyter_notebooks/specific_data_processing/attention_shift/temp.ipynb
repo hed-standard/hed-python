{
 "cells": [],
 "metadata": {
  "kernelspec": {
   "display_name": "Python 3",
   "language": "python",
   "name": "python3"
  },
  "language_info": {
   "codemirror_mode": {
    "name": "ipython",
    "version": 2
   },
   "file_extension": ".py",
   "mimetype": "text/x-python",
   "name": "python",
   "nbconvert_exporter": "python",
   "pygments_lexer": "ipython2",
   "version": "2.7.6"
  },
  "pycharm": {
   "stem_cell": {
    "cell_type": "raw",
    "source": [
     "\n",
     "#\n",
     "\n",
     "import os\n",
     "from hed.tools import get_new_dataframe\n",
     "from hed.tools import get_file_list\n",
     "bids_root_path = 'G:/AttentionShift/AttentionShiftExperiments'\n",
     "event_files = get_file_list(bids_root_path, types=[\".tsv\"], suffix=\"_events_temp2\")\n",
     "file_dict = {}\n",
     "for file in event_files:\n",
     "    base = os.path.basename(file)\n",
     "    pieces = base.split('_')\n",
     "    key = f\"{pieces[0]}_{pieces[-2]}\"\n",
     "    df = get_new_dataframe(file)\n",
     "    file_dict[key] = file\n"
    ],
    "metadata": {
     "collapsed": false
    }
   }
  }
 },
 "nbformat": 4,
 "nbformat_minor": 0
}