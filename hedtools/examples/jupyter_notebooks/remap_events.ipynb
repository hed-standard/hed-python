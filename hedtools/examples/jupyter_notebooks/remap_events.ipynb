{
 "cells": [
  {
   "cell_type": "markdown",
   "metadata": {
    "collapsed": true,
    "pycharm": {
     "name": "#%% md\n"
    }
   },
   "source": [
    "## Remap events.\n",
    "\n",
    "This notebook demonstrates how to use HED tools to remap event files. The idea of\n",
    "remapping is that each unique combination of values in a set of **key** columns is\n",
    "mapped into a specified combination of values in a set of **target** columns.\n",
    "\n",
    "Table 1 shows excerpt from a sample events file from the Sternberg dataset. We wish\n",
    "to remap the codes in the `type` column to a combination of values in new columns\n",
    "called `event_type`, `task_role`, and `letter` columns.\n",
    "\n",
    "Since the event files don't contain these columns, the mapping must insert these columns\n",
    "as part of the mapping. Note the `latency` gives the sample number of the event, rather\n",
    "than the offset in seconds as required by BIDS. The required `offset` and `duration`\n",
    "columns would need to be inserted to make this events file BIDS-compliant.\n",
    "\n",
    "**Table 1:** Excerpt from a Sternberg working memory event file.\n",
    "\n",
    "| pres_trial | stimulus | type  | latency |\n",
    "| ---------- | -------- | ----- | ------- |\n",
    "| 1          | Picture  | nonWM | 1430    |\n",
    "| 1          | Picture  | gD    | 2741    |\n",
    "| 1          | Picture  | gM    | 3102    |\n",
    "| 1          | Picture  | gB    | 3462    |\n",
    "| 1          | Picture  | Y     | 3822    |\n",
    "| 1          | Picture  | gH    | 4183    |\n",
    "\n",
    "Table 2 shows an excerpt of the mapping template which has already been created.\n",
    "\n",
    "**Table 2:** Excerpt of a map designed to map the `type` column into\n",
    "a combination of columns `event_type`, `task_role`, and `letter`.\n",
    "\n",
    "| type\t  | event_type  | task_role        | letter |\n",
    "| ------- | ----------- | ---------------- | ------ |\n",
    "| A\t      | show_letter | target           | A      |\n",
    "| gD      | show_letter | non-target       | D      |\n",
    "| Y       | show_letter | target           | E      |\n",
    "| rK      | show_letter | probe            | K      |\n",
    "| nonWM   | show_cross  | fixate           | +      |\n",
    "| correct | sound_beep  | correct_feedback | n/a    |\n",
    "| 1       | right_click | in_group         | n/a    |"
   ]
  },
  {
   "cell_type": "markdown",
   "source": [
    "#### Set dataset location\n",
    "\n",
    "The example used in this notebook is a Sternberg memory dataset. Some data files and\n",
    "the previously created template are located in the the `data/sternberg` directory."
   ],
   "metadata": {
    "collapsed": false
   }
  },
  {
   "cell_type": "markdown",
   "source": [
    "#### Set the data directory"
   ],
   "metadata": {
    "collapsed": false,
    "pycharm": {
     "name": "#%% md\n"
    }
   }
  },
  {
   "cell_type": "code",
   "execution_count": 1,
   "outputs": [],
   "source": [
    "data_directory = \"../data/sternberg\""
   ],
   "metadata": {
    "collapsed": false,
    "pycharm": {
     "name": "#%% Set the location of the data\n"
    }
   }
  },
  {
   "cell_type": "markdown",
   "source": [
    "#### Create a `KeyMap` to do the mapping"
   ],
   "metadata": {
    "collapsed": false,
    "pycharm": {
     "name": "#%% md\n"
    }
   }
  },
  {
   "cell_type": "code",
   "execution_count": 2,
   "outputs": [],
   "source": [
    "import os\n",
    "from hed.tools import KeyMap\n",
    "key_cols = ['type']\n",
    "target_cols = ['event_type', 'task_role', 'letter']\n",
    "key_map = KeyMap(key_cols, target_cols, name='sternberg_remap')\n"
   ],
   "metadata": {
    "collapsed": false,
    "pycharm": {
     "name": "#%%\n"
    }
   }
  },
  {
   "cell_type": "markdown",
   "source": [
    "#### Read the pre-created mapping template\n",
    "\n",
    "If you don't have a mapping for your data, you should use the\n",
    "`create_template.ipynb` notebook first.\n",
    "\n",
    "The following reads the template mapping unique values of `type` to\n",
    "combinations of `event_type`, `task_role`, and `letter`.\n"
   ],
   "metadata": {
    "collapsed": false,
    "pycharm": {
     "name": "#%% md\n"
    }
   }
  },
  {
   "cell_type": "code",
   "source": [
    "template_file = os.path.join(data_directory, \"sternberg_map.tsv\")\n",
    "print(f\"Template file is {template_file}\")\n",
    "duplicates = key_map.update(template_file)\n",
    "if duplicates:\n",
    "    print(f\"Warning: this mapping has {len(duplicates)} duplicate key entries\")\n"
   ],
   "metadata": {
    "collapsed": false,
    "pycharm": {
     "name": "#%% Load the template\n"
    }
   },
   "execution_count": 3,
   "outputs": [
    {
     "name": "stdout",
     "output_type": "stream",
     "text": [
      "Template file is ../data/sternberg\\sternberg_map.tsv\n"
     ]
    }
   ]
  },
  {
   "cell_type": "markdown",
   "source": [
    "#### Get a list of event files to be remapped\n",
    "\n",
    "We will remap the event files in the `data_directory` whose names start with\n",
    "`sternberg` and end with `_events.tsv`.\n"
   ],
   "metadata": {
    "collapsed": false
   }
  },
  {
   "cell_type": "code",
   "execution_count": 4,
   "outputs": [],
   "source": [
    "from hed.tools import get_file_list\n",
    "event_file_list = get_file_list(data_directory, types=[\".tsv\"], suffix=\"_events\")\n"
   ],
   "metadata": {
    "collapsed": false,
    "pycharm": {
     "name": "#%% Get the list of qualifying event files\n"
    }
   }
  },
  {
   "cell_type": "markdown",
   "source": [
    "#### Remap event files\n",
    "\n",
    "Remapping consists of replacing/adding columns (in this case adding columns)."
   ],
   "metadata": {
    "collapsed": false
   }
  },
  {
   "cell_type": "code",
   "execution_count": 5,
   "outputs": [
    {
     "name": "stdout",
     "output_type": "stream",
     "text": [
      "Remapping ../data/sternberg\\remapped_data_sternberg_sternberg_no_quotes_events.tsv...\n",
      "...Writing remapped file to ../data/sternberg\\remapped_data_sternberg_remapped_data_sternberg_sternberg_no_quotes_events.tsv\n",
      "Remapping ../data/sternberg\\remapped_data_sternberg_sternberg_test_events.tsv...\n",
      "...Writing remapped file to ../data/sternberg\\remapped_data_sternberg_remapped_data_sternberg_sternberg_test_events.tsv\n",
      "Remapping ../data/sternberg\\remapped_data_sternberg_sternberg_with_quotes_events.tsv...\n",
      "...Writing remapped file to ../data/sternberg\\remapped_data_sternberg_remapped_data_sternberg_sternberg_with_quotes_events.tsv\n",
      "Remapping ../data/sternberg\\sternberg_no_quotes_events.tsv...\n",
      "...Writing remapped file to ../data/sternberg\\remapped_data_sternberg_sternberg_no_quotes_events.tsv\n",
      "Remapping ../data/sternberg\\sternberg_test_events.tsv...\n",
      "...Writing remapped file to ../data/sternberg\\remapped_data_sternberg_sternberg_test_events.tsv\n",
      "Remapping ../data/sternberg\\sternberg_with_quotes_events.tsv...\n",
      "...Writing remapped file to ../data/sternberg\\remapped_data_sternberg_sternberg_with_quotes_events.tsv\n"
     ]
    }
   ],
   "source": [
    "from hed.tools import generate_filename\n",
    "for file in event_file_list:\n",
    "    print(f\"Remapping {file}...\")\n",
    "    df_new, missing = key_map.remap(file)\n",
    "    if missing:\n",
    "        print(f\"The keys {str(missing)} were not in the map for {file}\")\n",
    "    file_name = generate_filename(file, prefix=\"remapped\", extension='.tsv')\n",
    "    file_path = os.path.join(data_directory, file_name)\n",
    "    print(f\"...Writing remapped file to {file_path}\")\n",
    "    df_new.to_csv(file_path, sep='\\t', index=False)"
   ],
   "metadata": {
    "collapsed": false,
    "pycharm": {
     "name": "#%% Remap the requested event files\n"
    }
   }
  }
 ],
 "metadata": {
  "kernelspec": {
   "display_name": "Python 3",
   "language": "python",
   "name": "python3"
  },
  "language_info": {
   "codemirror_mode": {
    "name": "ipython",
    "version": 2
   },
   "file_extension": ".py",
   "mimetype": "text/x-python",
   "name": "python",
   "nbconvert_exporter": "python",
   "pygments_lexer": "ipython2",
   "version": "2.7.6"
  }
 },
 "nbformat": 4,
 "nbformat_minor": 0
}