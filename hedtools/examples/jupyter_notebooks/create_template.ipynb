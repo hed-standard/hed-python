{
 "cells": [
  {
   "cell_type": "markdown",
   "metadata": {
    "collapsed": true,
    "pycharm": {
     "name": "#%% md\n"
    }
   },
   "source": [
    "## Create a template for event remapping.\n",
    "This notebook works through the process analyzing the contents of the event files in\n",
    "a BIDS dataset and creating a template for remapping event codes. The goal of such\n",
    "a remapping is to orthogonalize event design and make the meanings of contents\n",
    "of the event file more clear.\n",
    "\n",
    "Suppose we want to remap each unique combination in the key columns [`value`, `trial_type`]\n",
    "into a new combination in the target columns [`event_type`, `task_role`, `shift_cond`].\n",
    "\n",
    "**Table 1:** Sample template created from a BIDS dataset.\n",
    "\n",
    "| value | trial_type | event_type | task_role | shift_cond |\n",
    "| ----- | ---------- | ---------- | --------- | ---------- |\n",
    "| 11    | 1          | n/a        | n/a       | n/a        |\n",
    "| 31    | 1          | n/a        | n/a       | n/a        |\n",
    "| 41    | 1          | n/a        | n/a       | n/a        |\n",
    "| 42    | 2          | n/a        | n/a       | n/a        |\n",
    "| 201   | 3          | n/a        | n/a       | n/a        |\n",
    "\n",
    "After creating a template file for your data, you must manually edit it\n",
    "to fill in the desired mapping.  Table 2 gives an example of a potential\n",
    "mapping.\n",
    "\n",
    "**Table 2:** An excerpt of the completed template for excerpt of Table 1.\n",
    "\n",
    "| value | trial_type | event_type   | task_role         | shift_cond    |\n",
    "| ----- | ---------- | ------------ | ----------------- | ------------- |\n",
    "| 11    | 1          | hear_cue     | cue               | auditory_cond |\n",
    "| 31    | 1          | high_tone    | target_attended   | auditory_cond |\n",
    "| 41    | 1          | light_bar    | target_unattended | auditory_cond |\n",
    "| 42    | 2          | light_bar    | target_attended   | visual_cond   |\n",
    "| 201   | 3          | button_press | target_detected   | shift_cond    |\n"
   ]
  },
  {
   "cell_type": "markdown",
   "source": [
    "#### Set dataset location\n",
    "\n",
    "The example used in this notebook is reduced version of an auditory attention shift\n",
    "dataset which is available at\n",
    "[https://github.com/hed-standard/hed-examples/data/eeg_ds0028932](https://github.com/hed-standard/hed-examples/data/eeg_ds0028932).\n",
    "\n",
    "To run this notebook, you will need download this dataset and set the `bids_root_path`\n",
    "variable to the local path of the dataset's root directory.\n",
    "\n",
    "Alternatively, you can set `bids_root_path` to the full path of your own BIDS dataset."
   ],
   "metadata": {
    "collapsed": false
   }
  },
  {
   "cell_type": "code",
   "execution_count": 1,
   "outputs": [],
   "source": [
    "bids_root_path = \"D:/eeg_ds002893s\""
   ],
   "metadata": {
    "collapsed": false,
    "pycharm": {
     "name": "#%% Set the location of the dataset the dataset\n"
    }
   }
  },
  {
   "cell_type": "markdown",
   "source": [
    "#### Set key and target columns\n",
    "\n",
    "The goal is to create a mapping of each unique combination of the key columns\n",
    "to a combination of target column values.\n",
    "\n",
    "(You will need to set the actual target column values manually after a template\n",
    "file is created.)"
   ],
   "metadata": {
    "collapsed": false
   }
  },
  {
   "cell_type": "code",
   "source": [
    "key_columns = [\"value\", \"trial_type\"]\n",
    "target_columns = [\"event_type\", \"task_role\", \"shift_cond\"]"
   ],
   "metadata": {
    "collapsed": false,
    "pycharm": {
     "name": "#%% Set up the variables for the dataset\n"
    }
   },
   "execution_count": 2,
   "outputs": []
  },
  {
   "cell_type": "markdown",
   "source": [
    "#### Get a list of event files\n",
    "\n",
    "The next example recursively traverses the directory tree and produces\n",
    "a list of the full paths of the dataset event files.\n",
    "\n",
    "Event files have extension `.tsv` and the file names end with `_events`.\n",
    "You may wish to check the returned list to verify that the expected event files\n",
    "are in the dataset."
   ],
   "metadata": {
    "collapsed": false,
    "pycharm": {
     "name": "#%% md\n"
    }
   }
  },
  {
   "cell_type": "code",
   "execution_count": 3,
   "outputs": [
    {
     "name": "stdout",
     "output_type": "stream",
     "text": [
      "Bids dataset D:/eeg_ds002893s has 6 event files\n"
     ]
    }
   ],
   "source": [
    "from hed.tools import get_file_list\n",
    "event_file_list = get_file_list(bids_root_path, types=[\".tsv\"], suffix=\"_events\")\n",
    "print(f\"Bids dataset {bids_root_path} has {len(event_file_list)} event files\")"
   ],
   "metadata": {
    "collapsed": false,
    "pycharm": {
     "name": "#%% Get a list of full paths of the event files\n"
    }
   }
  },
  {
   "cell_type": "markdown",
   "source": [
    "#### Find unique key column combinations\n",
    "\n",
    "Use the `KeyTemplate` class to find the unique value combinations of a list of columns.\n",
    "\n",
    "If you just want a summary of the unique values in individual columns of all\n",
    "event files, use the `ColumnDict` class as illustrated in notebook\n",
    "`summarize_events.ipynb`.\n"
   ],
   "metadata": {
    "collapsed": false
   }
  },
  {
   "cell_type": "code",
   "execution_count": 4,
   "outputs": [
    {
     "name": "stdout",
     "output_type": "stream",
     "text": [
      "Counts for key [['value', 'trial_type']]:\n",
      "[11, 1]\t228\n",
      "[12, 1]\t228\n",
      "[13, 1]\t456\n",
      "[14, 1]\t456\n",
      "[15, 1]\t1822\n",
      "[16, 1]\t1820\n",
      "[21, 2]\t252\n",
      "[22, 2]\t252\n",
      "[23, 2]\t505\n",
      "[24, 2]\t504\n",
      "[25, 2]\t2010\n",
      "[26, 2]\t2012\n",
      "[28, 2]\t2\n",
      "[31, 3]\t720\n",
      "[32, 3]\t719\n",
      "[37, 3]\t960\n",
      "[38, 3]\t960\n",
      "[39, 3]\t480\n",
      "[202, 1]\t13\n",
      "[202, 2]\t17\n",
      "[202, 3]\t42\n",
      "[212, 2]\t3\n",
      "[310, 3]\t480\n",
      "[311, 3]\t3838\n",
      "[312, 3]\t3832\n",
      "[313, 3]\t1920\n",
      "[314, 3]\t1915\n",
      "[1201, 1]\t433\n",
      "[2201, 2]\t502\n",
      "[3201, 3]\t1846\n"
     ]
    }
   ],
   "source": [
    "from hed.tools import KeyTemplate\n",
    "template = KeyTemplate(key_columns)\n",
    "for file in event_file_list:\n",
    "    template.update(file)\n",
    "template.resort()\n",
    "template.print()"
   ],
   "metadata": {
    "collapsed": false,
    "pycharm": {
     "name": "#%% Use KeyTemplate to get the counts for each unique combination of key columns.\n"
    }
   }
  },
  {
   "cell_type": "markdown",
   "source": [
    "#### Save the template for editing"
   ],
   "metadata": {
    "collapsed": false,
    "pycharm": {
     "name": "#%% md\n"
    }
   }
  },
  {
   "cell_type": "code",
   "execution_count": 5,
   "outputs": [],
   "source": [
    "import os\n",
    "df = template.make_template(additional_cols=target_columns)\n",
    "template_file = os.path.join(bids_root_path, \"remap_event_template.tsv\")\n",
    "df.to_csv(template_file, sep='\\t', index=False)"
   ],
   "metadata": {
    "collapsed": false,
    "pycharm": {
     "name": "#%% Create DataFrame containing a template based specified columns and values\n"
    }
   }
  },
  {
   "cell_type": "markdown",
   "source": [
    "#### Manually edit template\n",
    "\n",
    "To do remapping, you will need to edit the `event_template.tsv` spreadsheet\n",
    "created in the previous step to indicate how each combination of [`value`, `trial_type`]\n",
    "is mapped into a combination of [`event_type`, `task_role`, `shift_cond`].\n",
    "\n",
    "Once you have filled in the mapping, you can use the `remap_events.ipynb` notebook\n",
    "to remap all the event files in your BIDS dataset."
   ],
   "metadata": {
    "collapsed": false,
    "pycharm": {
     "name": "#%% md\n"
    }
   }
  }
 ],
 "metadata": {
  "kernelspec": {
   "display_name": "Python 3",
   "language": "python",
   "name": "python3"
  },
  "language_info": {
   "codemirror_mode": {
    "name": "ipython",
    "version": 2
   },
   "file_extension": ".py",
   "mimetype": "text/x-python",
   "name": "python",
   "nbconvert_exporter": "python",
   "pygments_lexer": "ipython2",
   "version": "2.7.6"
  }
 },
 "nbformat": 4,
 "nbformat_minor": 0
}