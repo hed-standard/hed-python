{
 "cells": [
  {
   "cell_type": "markdown",
   "metadata": {
    "collapsed": true,
    "pycharm": {
     "name": "#%% md\n"
    }
   },
   "source": [
    "## Tag column values.\n",
    "\n",
    "This notebook demonstrates how take an event file or a map and create a\n",
    "two-column spreadsheet that makes it easy to assign HED tags to the unique\n",
    "values in the columns. The input can either be event files or a map.\n",
    "This notebook uses a map as the example.\n",
    "\n",
    "**Table 1:** Excerpt of a map designed to map the `type` column into\n",
    "a combination of columns `event_type`, `task_role`, and `letter`.\n",
    "\n",
    "| type\t  | event_type  | task_role        | letter |\n",
    "| ------- | ----------- | ---------------- | ------ |\n",
    "| A\t      | show_letter | target           | A      |\n",
    "| gD      | show_letter | non-target       | D      |\n",
    "| Y       | show_letter | target           | E      |\n",
    "| rK      | show_letter | probe            | K      |\n",
    "| nonWM   | show_cross  | fixate           | +      |\n",
    "| correct | sound_beep  | correct_feedback | n/a    |\n",
    "| 1       | right_click | in_group         | n/a    |\n",
    "\n",
    "In order to annotate the data using HED tags, you must associate the\n",
    "meaning of each term in the relevant columns of the event file with a HED string.\n",
    "\n",
    "To make this easier, we flatten the information into a two-column spreadsheet\n",
    "that can be easily edited. Table 2 shows a *flattened* version of Table 1.\n",
    "\n",
    "**Table 2:** A flattened version of Table 1. The categorical columns are\n",
    "`event_type` and `task_role`. The `letter` column is a value column.\n",
    "\n",
    "| column            | HED                     |\n",
    "| ----------------- | ----------------------- |\n",
    "| \\_\\*\\_event_type_*_ | n/a                     |\n",
    "| right_click       | Label/right_click       |\n",
    "| show_dash         | Label/show_dash         |\n",
    "| show_cross        | Label/show_cross        |\n",
    "| sound_beep        | Label/sound_beep        |\n",
    "| \\_\\*\\_task_role_*_  | n/a                     |\n",
    "| correct_feedback  | Label/correct_feedback  |\n",
    "| fixate            | Label/fixate            |\n",
    "| in_group          | Label/in_group          |\n",
    "| non_target        | Label/non_target        |\n",
    "| probe             | Label/probe             |\n",
    "| target            | Label/target            |\n",
    "| \\_\\*\\_letter_*_      | Label/letter, Label/#  |\n",
    "\n",
    "The column names `event_type` and `task_role` are categorical columns, so\n",
    "they appear as separator rows with HED columns values `n/a`.\n",
    "\n",
    "Each unique value in the categorical columns appears in a separate row\n",
    "following its column name. Dummy HED tags using *Label* are filled in\n",
    "as placeholders.\n",
    "\n",
    "The `letter` value column values are represented by a single row. The HED\n",
    "tag for this column must have a `#` placeholder. HED tools substitute\n",
    "the particular value in the table for `#` when the annotation is assembled.\n",
    "\n",
    "After you have updated the spreadsheet of Table 2 with the appropriate HED\n",
    "tags, you will need to convert it to a JSON sidecar to be used with BIDS\n",
    "datasets.  Table 3 shows the *unflattened* conversion of Table 2 into the\n",
    "JSON form.\n",
    "\n",
    "**Table 3:** The unflattened JSON sidecar.\n",
    "\n",
    "```json\n",
    "{\n",
    "  \"event_type\": {\n",
    "    \"HED\": {\n",
    "      \"right_click\": \"Label/right_click\",\n",
    "      \"show_cross\": \"Label/show_cross\",\n",
    "      \"show_letter\": \"Label/show_letter\",\n",
    "      \"sound_beep\": \"Label/sound_beep\",\n",
    "    }\n",
    "  },\n",
    "  \"task_role\": {\n",
    "    \"HED\": {\n",
    "      \"correct_feedback\": \"Label/correct_feedback\",\n",
    "      \"fixate\": \"Label/fixate\",\n",
    "      \"in_group\": \"Label/in_group\",\n",
    "      \"non_target\": \"Label/non_target\",\n",
    "      \"probe\": \"Label/probe\",\n",
    "      \"target\": \"Label/target\"\n",
    "    }\n",
    "  },\n",
    "  \"letter\": {\n",
    "    \"HED\": \"Label/letter, Label/#\"\n",
    "  }\n",
    "}\n",
    "\n",
    "```"
   ]
  },
  {
   "cell_type": "markdown",
   "source": [
    "#### Read the completed template"
   ],
   "metadata": {
    "collapsed": false,
    "pycharm": {
     "name": "#%% md\n"
    }
   }
  },
  {
   "cell_type": "code",
   "source": [
    "import os\n",
    "from hed.tools import ColumnDict\n",
    "data_path = \"../data/sternberg\"\n",
    "remap_file = os.path.join(data_path, \"sternberg_map.tsv\")\n",
    "col_dict = ColumnDict(value_cols=['letter'], skip_cols=['type'], name='SternbergFlat')\n",
    "col_dict.update(remap_file)"
   ],
   "metadata": {
    "collapsed": false,
    "pycharm": {
     "name": "#%% Load the event remapping and create a dictionary\n"
    }
   },
   "execution_count": 1,
   "outputs": []
  },
  {
   "cell_type": "markdown",
   "source": [
    "#### Output the template for viewing"
   ],
   "metadata": {
    "collapsed": false,
    "pycharm": {
     "name": "#%% md\n"
    }
   }
  },
  {
   "cell_type": "code",
   "execution_count": 2,
   "outputs": [
    {
     "name": "stdout",
     "output_type": "stream",
     "text": [
      "Summary for column dictionary SternbergFlat:\n",
      "  Categorical columns (2):\n",
      "    event_type (9 distinct values):\n",
      "      fixation: 1\n",
      "      left_click: 1\n",
      "      response: 1\n",
      "      right_click: 1\n",
      "      show_cross: 1\n",
      "      show_dash: 1\n",
      "      show_letter: 78\n",
      "      sound_beep: 1\n",
      "      sound_buzz: 2\n",
      "    task_role (11 distinct values):\n",
      "      correct_feedback: 1\n",
      "      fixate: 1\n",
      "      in_group: 1\n",
      "      incorrect_feedback: 2\n",
      "      non_target: 26\n",
      "      out_group: 1\n",
      "      probe: 26\n",
      "      ready: 1\n",
      "      target: 26\n",
      "      unknown: 1\n",
      "      work_memory: 1\n",
      "  Value columns (1):\n",
      "    letter: 87\n"
     ]
    }
   ],
   "source": [
    "col_dict.print()"
   ],
   "metadata": {
    "collapsed": false,
    "pycharm": {
     "name": "#%% Output the dictionary\n"
    }
   }
  },
  {
   "cell_type": "markdown",
   "source": [
    "#### Create a flattened version of the template to facilitate tagging"
   ],
   "metadata": {
    "collapsed": false,
    "pycharm": {
     "name": "#%% md\n"
    }
   }
  },
  {
   "cell_type": "code",
   "execution_count": 3,
   "outputs": [
    {
     "name": "stdout",
     "output_type": "stream",
     "text": [
      "                column                       HED\n",
      "0     _*_event_type_*_                       n/a\n",
      "1             fixation            Label/fixation\n",
      "2           left_click          Label/left_click\n",
      "3             response            Label/response\n",
      "4          right_click         Label/right_click\n",
      "5           show_cross          Label/show_cross\n",
      "6            show_dash           Label/show_dash\n",
      "7          show_letter         Label/show_letter\n",
      "8           sound_beep          Label/sound_beep\n",
      "9           sound_buzz          Label/sound_buzz\n",
      "10     _*_task_role_*_                       n/a\n",
      "11    correct_feedback    Label/correct_feedback\n",
      "12              fixate              Label/fixate\n",
      "13            in_group            Label/in_group\n",
      "14  incorrect_feedback  Label/incorrect_feedback\n",
      "15          non_target          Label/non_target\n",
      "16           out_group           Label/out_group\n",
      "17               probe               Label/probe\n",
      "18               ready               Label/ready\n",
      "19              target              Label/target\n",
      "20             unknown             Label/unknown\n",
      "21         work_memory         Label/work_memory\n",
      "22        _*_letter_*_     Label/letter, Label/#\n"
     ]
    }
   ],
   "source": [
    "df = col_dict.get_flattened()\n",
    "print(df.to_string())"
   ],
   "metadata": {
    "collapsed": false,
    "pycharm": {
     "name": "#%% Flatten the column dictionary and view\n"
    }
   }
  },
  {
   "cell_type": "markdown",
   "source": [
    "#### Output the flattened dictionary\n",
    "\n",
    "The flattened file should be edited to replace the dummy *Label* HED tags with\n",
    "the desired annotations."
   ],
   "metadata": {
    "collapsed": false,
    "pycharm": {
     "name": "#%% md\n"
    }
   }
  },
  {
   "cell_type": "code",
   "execution_count": 4,
   "outputs": [],
   "source": [
    "file_path = os.path.join(data_path, 'sternberg_flattened.tsv')\n",
    "df.to_csv(file_path, sep='\\t', index=False)"
   ],
   "metadata": {
    "collapsed": false,
    "pycharm": {
     "name": "#%% Output the flattened dictionary\n"
    }
   }
  },
  {
   "cell_type": "markdown",
   "source": [
    "#### Create a JSON sidecar from the flattened dictionary\n",
    "\n",
    "Once the flattened spreadsheet is completed, you can convert\n",
    "directly to a JSON sidecar by unflattening.\n"
   ],
   "metadata": {
    "collapsed": false,
    "pycharm": {
     "name": "#%% md\n"
    }
   }
  },
  {
   "cell_type": "code",
   "execution_count": 5,
   "outputs": [
    {
     "name": "stdout",
     "output_type": "stream",
     "text": [
      "{\n",
      "  \"event_type\": {\n",
      "    \"HED\": {\n",
      "      \"fixation\": \"Label/fixation\",\n",
      "      \"left_click\": \"Label/left_click\",\n",
      "      \"response\": \"Label/response\",\n",
      "      \"right_click\": \"Label/right_click\",\n",
      "      \"show_cross\": \"Label/show_cross\",\n",
      "      \"show_dash\": \"Label/show_dash\",\n",
      "      \"show_letter\": \"Label/show_letter\",\n",
      "      \"sound_beep\": \"Label/sound_beep\",\n",
      "      \"sound_buzz\": \"Label/sound_buzz\"\n",
      "    }\n",
      "  },\n",
      "  \"task_role\": {\n",
      "    \"HED\": {\n",
      "      \"correct_feedback\": \"Label/correct_feedback\",\n",
      "      \"fixate\": \"Label/fixate\",\n",
      "      \"in_group\": \"Label/in_group\",\n",
      "      \"incorrect_feedback\": \"Label/incorrect_feedback\",\n",
      "      \"non_target\": \"Label/non_target\",\n",
      "      \"out_group\": \"Label/out_group\",\n",
      "      \"probe\": \"Label/probe\",\n",
      "      \"ready\": \"Label/ready\",\n",
      "      \"target\": \"Label/target\",\n",
      "      \"unknown\": \"Label/unknown\",\n",
      "      \"work_memory\": \"Label/work_memory\"\n",
      "    }\n",
      "  },\n",
      "  \"letter\": {\n",
      "    \"HED\": \"Label/letter, Label/#\"\n",
      "  }\n",
      "}\n"
     ]
    }
   ],
   "source": [
    "from json import dumps\n",
    "from hed.tools import SidecarMap, get_new_dataframe\n",
    "\n",
    "s_map = SidecarMap()\n",
    "file_path = os.path.join(data_path, 'sternberg_flattened.tsv')\n",
    "df = get_new_dataframe(file_path)\n",
    "sidecar = s_map.unflatten_hed(df)\n",
    "sidecar_string = dumps(sidecar, indent=2)\n",
    "print(sidecar_string)"
   ],
   "metadata": {
    "collapsed": false,
    "pycharm": {
     "name": "#%% Create a sidecar\n"
    }
   }
  },
  {
   "cell_type": "markdown",
   "source": [
    "#### Save the JSON sidecar in the file\n",
    "\n",
    "The general strategy is to produce a single JSON events sidecar that\n",
    "will be placed at the top level the dataset to annotate the entire dataset."
   ],
   "metadata": {
    "collapsed": false,
    "pycharm": {
     "name": "#%% md\n"
    }
   }
  },
  {
   "cell_type": "code",
   "execution_count": 6,
   "outputs": [],
   "source": [
    "json_path = os.path.join(data_path, 'sternberg_events.json')\n",
    "json_file = open(json_path, \"w\")\n",
    "json_file.write(sidecar_string)\n",
    "json_file.close()"
   ],
   "metadata": {
    "collapsed": false,
    "pycharm": {
     "name": "#%% Save the string to a sidecar file\n"
    }
   }
  },
  {
   "cell_type": "markdown",
   "source": [
    "#### Enhance the JSON sidecar\n",
    "\n",
    "You may wish to added other information to the JSON sidecar such as\n",
    "the `levels` fields for categorical columns.  The `SidecarMap` has\n",
    "facilities for flattening and unflattening JSON files of arbitrary\n",
    "depth. You can use these facilities to easily edit and reconvert."
   ],
   "metadata": {
    "collapsed": false,
    "pycharm": {
     "name": "#%% md\n"
    }
   }
  }
 ],
 "metadata": {
  "kernelspec": {
   "display_name": "Python 3",
   "language": "python",
   "name": "python3"
  },
  "language_info": {
   "codemirror_mode": {
    "name": "ipython",
    "version": 2
   },
   "file_extension": ".py",
   "mimetype": "text/x-python",
   "name": "python",
   "nbconvert_exporter": "python",
   "pygments_lexer": "ipython2",
   "version": "2.7.6"
  }
 },
 "nbformat": 4,
 "nbformat_minor": 0
}